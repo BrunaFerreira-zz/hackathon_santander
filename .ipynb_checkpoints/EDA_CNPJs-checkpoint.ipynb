{
 "cells": [
  {
   "cell_type": "code",
   "execution_count": 1,
   "metadata": {},
   "outputs": [],
   "source": [
    "import pandas as pd \n",
    "import numpy as np\n",
    "%matplotlib inline\n",
    "pd.options.display.float_format = '{:,.2f}'.format\n",
    "pd.options.display.max_colwidth = 200"
   ]
  },
  {
   "cell_type": "markdown",
   "metadata": {},
   "source": [
    "### Funções"
   ]
  },
  {
   "cell_type": "code",
   "execution_count": 2,
   "metadata": {},
   "outputs": [],
   "source": [
    "def tabela_categoricas(df,col,name_col):\n",
    "    df_1 = pd.DataFrame(df[col].value_counts()).reset_index()\n",
    "    df_1.columns = [name_col,'Qtd empresas']\n",
    "    df_1['%Total'] = (df_1['Qtd empresas']/len(df))*100\n",
    "    return df_1"
   ]
  },
  {
   "cell_type": "markdown",
   "metadata": {},
   "source": [
    "### 0. Import Bases"
   ]
  },
  {
   "cell_type": "code",
   "execution_count": 3,
   "metadata": {},
   "outputs": [
    {
     "data": {
      "text/html": [
       "<div>\n",
       "<style scoped>\n",
       "    .dataframe tbody tr th:only-of-type {\n",
       "        vertical-align: middle;\n",
       "    }\n",
       "\n",
       "    .dataframe tbody tr th {\n",
       "        vertical-align: top;\n",
       "    }\n",
       "\n",
       "    .dataframe thead th {\n",
       "        text-align: right;\n",
       "    }\n",
       "</style>\n",
       "<table border=\"1\" class=\"dataframe\">\n",
       "  <thead>\n",
       "    <tr style=\"text-align: right;\">\n",
       "      <th></th>\n",
       "      <th>cnpj</th>\n",
       "      <th>cd_secao_cnae</th>\n",
       "      <th>cnae</th>\n",
       "      <th>capital_social_empresa</th>\n",
       "      <th>porte_empresa</th>\n",
       "      <th>situacao</th>\n",
       "      <th>abertura</th>\n",
       "      <th>ativa</th>\n",
       "      <th>codigo_ibge</th>\n",
       "      <th>municipio</th>\n",
       "      <th>uf</th>\n",
       "      <th>cep</th>\n",
       "    </tr>\n",
       "  </thead>\n",
       "  <tbody>\n",
       "    <tr>\n",
       "      <td>0</td>\n",
       "      <td>149757000303</td>\n",
       "      <td>A</td>\n",
       "      <td>111301</td>\n",
       "      <td>0.00</td>\n",
       "      <td>5</td>\n",
       "      <td>2004-02-10</td>\n",
       "      <td>1989-09-01</td>\n",
       "      <td>0</td>\n",
       "      <td>1100205</td>\n",
       "      <td>PORTO VELHO</td>\n",
       "      <td>RO</td>\n",
       "      <td>78,905,770.00</td>\n",
       "    </tr>\n",
       "    <tr>\n",
       "      <td>1</td>\n",
       "      <td>5915400000140</td>\n",
       "      <td>A</td>\n",
       "      <td>111301</td>\n",
       "      <td>0.00</td>\n",
       "      <td>5</td>\n",
       "      <td>2015-02-09</td>\n",
       "      <td>1986-03-10</td>\n",
       "      <td>0</td>\n",
       "      <td>1100205</td>\n",
       "      <td>PORTO VELHO</td>\n",
       "      <td>RO</td>\n",
       "      <td>78,902,900.00</td>\n",
       "    </tr>\n",
       "  </tbody>\n",
       "</table>\n",
       "</div>"
      ],
      "text/plain": [
       "            cnpj cd_secao_cnae    cnae  capital_social_empresa  porte_empresa  \\\n",
       "0   149757000303             A  111301                    0.00              5   \n",
       "1  5915400000140             A  111301                    0.00              5   \n",
       "\n",
       "     situacao    abertura  ativa  codigo_ibge    municipio  uf           cep  \n",
       "0  2004-02-10  1989-09-01      0      1100205  PORTO VELHO  RO 78,905,770.00  \n",
       "1  2015-02-09  1986-03-10      0      1100205  PORTO VELHO  RO 78,902,900.00  "
      ]
     },
     "execution_count": 3,
     "metadata": {},
     "output_type": "execute_result"
    }
   ],
   "source": [
    "### Import Bases\n",
    "df_cnpjs = pd.read_csv('data/cnpjPreFiltrado.csv', encoding='utf-8')\n",
    "df_desc_cnae = pd.read_csv('data/descricao_cnae.csv',encoding='latin1')\n",
    "df_cnpjs.head(2)"
   ]
  },
  {
   "cell_type": "code",
   "execution_count": 4,
   "metadata": {},
   "outputs": [
    {
     "data": {
      "text/plain": [
       "(42521762, 12)"
      ]
     },
     "execution_count": 4,
     "metadata": {},
     "output_type": "execute_result"
    }
   ],
   "source": [
    "df_cnpjs.shape"
   ]
  },
  {
   "cell_type": "code",
   "execution_count": 5,
   "metadata": {},
   "outputs": [],
   "source": [
    "# Descrição do Porte da Empresa\n",
    "df_cnpjs['porte_empresa_descr']= df_cnpjs['porte_empresa'].replace([0,1,3,5],['NAO INFORMADO','MICRO EMPRESA','EMPRESA DE PEQUENO PORTE','DEMAIS'])"
   ]
  },
  {
   "cell_type": "code",
   "execution_count": 6,
   "metadata": {},
   "outputs": [],
   "source": [
    "# Join para incluir descrição do CNAE\n",
    "df_cnpjs = pd.merge(df_cnpjs, df_desc_cnae,how='left', on=['cd_secao_cnae'])"
   ]
  },
  {
   "cell_type": "markdown",
   "metadata": {},
   "source": [
    "### 1. Distribuições Categoricas"
   ]
  },
  {
   "cell_type": "markdown",
   "metadata": {},
   "source": [
    "* Distribuição de Empresas - Porte"
   ]
  },
  {
   "cell_type": "code",
   "execution_count": 7,
   "metadata": {},
   "outputs": [
    {
     "data": {
      "text/html": [
       "<div>\n",
       "<style scoped>\n",
       "    .dataframe tbody tr th:only-of-type {\n",
       "        vertical-align: middle;\n",
       "    }\n",
       "\n",
       "    .dataframe tbody tr th {\n",
       "        vertical-align: top;\n",
       "    }\n",
       "\n",
       "    .dataframe thead th {\n",
       "        text-align: right;\n",
       "    }\n",
       "</style>\n",
       "<table border=\"1\" class=\"dataframe\">\n",
       "  <thead>\n",
       "    <tr style=\"text-align: right;\">\n",
       "      <th></th>\n",
       "      <th>Porte</th>\n",
       "      <th>Qtd empresas</th>\n",
       "      <th>%Total</th>\n",
       "    </tr>\n",
       "  </thead>\n",
       "  <tbody>\n",
       "    <tr>\n",
       "      <td>0</td>\n",
       "      <td>MICRO EMPRESA</td>\n",
       "      <td>28785215</td>\n",
       "      <td>67.70</td>\n",
       "    </tr>\n",
       "    <tr>\n",
       "      <td>1</td>\n",
       "      <td>DEMAIS</td>\n",
       "      <td>12444294</td>\n",
       "      <td>29.27</td>\n",
       "    </tr>\n",
       "    <tr>\n",
       "      <td>2</td>\n",
       "      <td>EMPRESA DE PEQUENO PORTE</td>\n",
       "      <td>1292241</td>\n",
       "      <td>3.04</td>\n",
       "    </tr>\n",
       "    <tr>\n",
       "      <td>3</td>\n",
       "      <td>NAO INFORMADO</td>\n",
       "      <td>12</td>\n",
       "      <td>0.00</td>\n",
       "    </tr>\n",
       "  </tbody>\n",
       "</table>\n",
       "</div>"
      ],
      "text/plain": [
       "                      Porte  Qtd empresas  %Total\n",
       "0             MICRO EMPRESA      28785215   67.70\n",
       "1                    DEMAIS      12444294   29.27\n",
       "2  EMPRESA DE PEQUENO PORTE       1292241    3.04\n",
       "3             NAO INFORMADO            12    0.00"
      ]
     },
     "execution_count": 7,
     "metadata": {},
     "output_type": "execute_result"
    }
   ],
   "source": [
    "tabela_categoricas(df_cnpjs,'porte_empresa_descr','Porte')"
   ]
  },
  {
   "cell_type": "markdown",
   "metadata": {},
   "source": [
    "* Distribuição de Empresas - CNAE (Classificação Nacional de Atividades Econômicas)"
   ]
  },
  {
   "cell_type": "code",
   "execution_count": 8,
   "metadata": {},
   "outputs": [
    {
     "data": {
      "text/html": [
       "<div>\n",
       "<style scoped>\n",
       "    .dataframe tbody tr th:only-of-type {\n",
       "        vertical-align: middle;\n",
       "    }\n",
       "\n",
       "    .dataframe tbody tr th {\n",
       "        vertical-align: top;\n",
       "    }\n",
       "\n",
       "    .dataframe thead th {\n",
       "        text-align: right;\n",
       "    }\n",
       "</style>\n",
       "<table border=\"1\" class=\"dataframe\">\n",
       "  <thead>\n",
       "    <tr style=\"text-align: right;\">\n",
       "      <th></th>\n",
       "      <th>CNAE</th>\n",
       "      <th>Qtd empresas</th>\n",
       "      <th>%Total</th>\n",
       "    </tr>\n",
       "  </thead>\n",
       "  <tbody>\n",
       "    <tr>\n",
       "      <td>0</td>\n",
       "      <td>COMÉRCIO; REPARAÇÃO DE VEÍCULOS AUTOMOTORES E MOTOCICLETAS</td>\n",
       "      <td>15699188</td>\n",
       "      <td>36.92</td>\n",
       "    </tr>\n",
       "    <tr>\n",
       "      <td>1</td>\n",
       "      <td>OUTRAS ATIVIDADES DE SERVIÇOS</td>\n",
       "      <td>5737984</td>\n",
       "      <td>13.49</td>\n",
       "    </tr>\n",
       "    <tr>\n",
       "      <td>2</td>\n",
       "      <td>ALOJAMENTO E ALIMENTAÇÃO</td>\n",
       "      <td>3777460</td>\n",
       "      <td>8.88</td>\n",
       "    </tr>\n",
       "    <tr>\n",
       "      <td>3</td>\n",
       "      <td>INDÚSTRIAS DE TRANSFORMAÇÃO</td>\n",
       "      <td>3479977</td>\n",
       "      <td>8.18</td>\n",
       "    </tr>\n",
       "    <tr>\n",
       "      <td>4</td>\n",
       "      <td>ATIVIDADES ADMINISTRATIVAS E SERVIÇOS COMPLEMENTARES</td>\n",
       "      <td>2451341</td>\n",
       "      <td>5.76</td>\n",
       "    </tr>\n",
       "    <tr>\n",
       "      <td>5</td>\n",
       "      <td>CONSTRUÇÃO</td>\n",
       "      <td>2374292</td>\n",
       "      <td>5.58</td>\n",
       "    </tr>\n",
       "    <tr>\n",
       "      <td>6</td>\n",
       "      <td>TRANSPORTE, ARMAZENAGEM E CORREIO</td>\n",
       "      <td>1913976</td>\n",
       "      <td>4.50</td>\n",
       "    </tr>\n",
       "    <tr>\n",
       "      <td>7</td>\n",
       "      <td>ATIVIDADES PROFISSIONAIS, CIENTÍFICAS E TÉCNICAS</td>\n",
       "      <td>1882228</td>\n",
       "      <td>4.43</td>\n",
       "    </tr>\n",
       "    <tr>\n",
       "      <td>8</td>\n",
       "      <td>EDUCAÇÃO</td>\n",
       "      <td>999409</td>\n",
       "      <td>2.35</td>\n",
       "    </tr>\n",
       "    <tr>\n",
       "      <td>9</td>\n",
       "      <td>AGRICULTURA, PECUÁRIA, PROD FLORESTAL, PESCA E AQUICULTURA</td>\n",
       "      <td>950471</td>\n",
       "      <td>2.24</td>\n",
       "    </tr>\n",
       "    <tr>\n",
       "      <td>10</td>\n",
       "      <td>INFORMAÇÃO E COMUNICAÇÃO</td>\n",
       "      <td>806866</td>\n",
       "      <td>1.90</td>\n",
       "    </tr>\n",
       "    <tr>\n",
       "      <td>11</td>\n",
       "      <td>SAÚDE HUMANA E SERVIÇOS SOCIAIS</td>\n",
       "      <td>772595</td>\n",
       "      <td>1.82</td>\n",
       "    </tr>\n",
       "    <tr>\n",
       "      <td>12</td>\n",
       "      <td>ARTES, CULTURA, ESPORTE E RECREAÇÃO</td>\n",
       "      <td>506018</td>\n",
       "      <td>1.19</td>\n",
       "    </tr>\n",
       "    <tr>\n",
       "      <td>13</td>\n",
       "      <td>ATIVIDADES FINANCEIRAS, DE SEGUROS E SERVIÇOS RELACIONADOS</td>\n",
       "      <td>457222</td>\n",
       "      <td>1.08</td>\n",
       "    </tr>\n",
       "    <tr>\n",
       "      <td>14</td>\n",
       "      <td>ATIVIDADES IMOBILIÁRIAS</td>\n",
       "      <td>278700</td>\n",
       "      <td>0.66</td>\n",
       "    </tr>\n",
       "    <tr>\n",
       "      <td>15</td>\n",
       "      <td>SERVIÇOS DOMÉSTICOS</td>\n",
       "      <td>186608</td>\n",
       "      <td>0.44</td>\n",
       "    </tr>\n",
       "    <tr>\n",
       "      <td>16</td>\n",
       "      <td>ÁGUA, ESGOTO, ATIVIDADES DE GESTÃO DE RESÍDUOS E DESCONTAMINAÇÃO</td>\n",
       "      <td>87918</td>\n",
       "      <td>0.21</td>\n",
       "    </tr>\n",
       "    <tr>\n",
       "      <td>17</td>\n",
       "      <td>ADMINISTRAÇÃO PÚBLICA, DEFESA E SEGURIDADE SOCIAL</td>\n",
       "      <td>71548</td>\n",
       "      <td>0.17</td>\n",
       "    </tr>\n",
       "    <tr>\n",
       "      <td>18</td>\n",
       "      <td>INDÚSTRIAS EXTRATIVAS</td>\n",
       "      <td>66754</td>\n",
       "      <td>0.16</td>\n",
       "    </tr>\n",
       "    <tr>\n",
       "      <td>19</td>\n",
       "      <td>ELETRICIDADE E GÁS</td>\n",
       "      <td>21207</td>\n",
       "      <td>0.05</td>\n",
       "    </tr>\n",
       "  </tbody>\n",
       "</table>\n",
       "</div>"
      ],
      "text/plain": [
       "                                                                CNAE  \\\n",
       "0         COMÉRCIO; REPARAÇÃO DE VEÍCULOS AUTOMOTORES E MOTOCICLETAS   \n",
       "1                                      OUTRAS ATIVIDADES DE SERVIÇOS   \n",
       "2                                           ALOJAMENTO E ALIMENTAÇÃO   \n",
       "3                                        INDÚSTRIAS DE TRANSFORMAÇÃO   \n",
       "4               ATIVIDADES ADMINISTRATIVAS E SERVIÇOS COMPLEMENTARES   \n",
       "5                                                         CONSTRUÇÃO   \n",
       "6                                  TRANSPORTE, ARMAZENAGEM E CORREIO   \n",
       "7                   ATIVIDADES PROFISSIONAIS, CIENTÍFICAS E TÉCNICAS   \n",
       "8                                                           EDUCAÇÃO   \n",
       "9         AGRICULTURA, PECUÁRIA, PROD FLORESTAL, PESCA E AQUICULTURA   \n",
       "10                                          INFORMAÇÃO E COMUNICAÇÃO   \n",
       "11                                   SAÚDE HUMANA E SERVIÇOS SOCIAIS   \n",
       "12                               ARTES, CULTURA, ESPORTE E RECREAÇÃO   \n",
       "13        ATIVIDADES FINANCEIRAS, DE SEGUROS E SERVIÇOS RELACIONADOS   \n",
       "14                                           ATIVIDADES IMOBILIÁRIAS   \n",
       "15                                               SERVIÇOS DOMÉSTICOS   \n",
       "16  ÁGUA, ESGOTO, ATIVIDADES DE GESTÃO DE RESÍDUOS E DESCONTAMINAÇÃO   \n",
       "17                 ADMINISTRAÇÃO PÚBLICA, DEFESA E SEGURIDADE SOCIAL   \n",
       "18                                             INDÚSTRIAS EXTRATIVAS   \n",
       "19                                                ELETRICIDADE E GÁS   \n",
       "\n",
       "    Qtd empresas  %Total  \n",
       "0       15699188   36.92  \n",
       "1        5737984   13.49  \n",
       "2        3777460    8.88  \n",
       "3        3479977    8.18  \n",
       "4        2451341    5.76  \n",
       "5        2374292    5.58  \n",
       "6        1913976    4.50  \n",
       "7        1882228    4.43  \n",
       "8         999409    2.35  \n",
       "9         950471    2.24  \n",
       "10        806866    1.90  \n",
       "11        772595    1.82  \n",
       "12        506018    1.19  \n",
       "13        457222    1.08  \n",
       "14        278700    0.66  \n",
       "15        186608    0.44  \n",
       "16         87918    0.21  \n",
       "17         71548    0.17  \n",
       "18         66754    0.16  \n",
       "19         21207    0.05  "
      ]
     },
     "execution_count": 8,
     "metadata": {},
     "output_type": "execute_result"
    }
   ],
   "source": [
    "tabela_categoricas(df_cnpjs,'descr_secao_cnae','CNAE')"
   ]
  },
  {
   "cell_type": "markdown",
   "metadata": {},
   "source": [
    "*  Distribuição de Empresas - Capital Social"
   ]
  },
  {
   "cell_type": "code",
   "execution_count": 9,
   "metadata": {
    "scrolled": true
   },
   "outputs": [
    {
     "data": {
      "text/plain": [
       "<matplotlib.axes._subplots.AxesSubplot at 0x1f13495f508>"
      ]
     },
     "execution_count": 9,
     "metadata": {},
     "output_type": "execute_result"
    },
    {
     "data": {
      "image/png": "[encoded data removed]",
      "text/plain": [
       "<Figure size 432x288 with 1 Axes>"
      ]
     },
     "metadata": {
      "needs_background": "light"
     },
     "output_type": "display_data"
    }
   ],
   "source": [
    "df_cnpjs['capital_social_empresa'].hist(grid = False)"
   ]
  },
  {
   "cell_type": "code",
   "execution_count": null,
   "metadata": {},
   "outputs": [],
   "source": [
    "resumo_capital =pd.DataFrame(columns=['PCR', 'IGM', 'IGG'], index=['Qtd Exames','Qtd Pacientes','%Exames/Base','%Pacientes/Base','Mulheres','Homens','%Mulheres','%Homens','Media_Idade', 'Mediana_Idade', 'Minimo_Idade','Maximo_Idade'])"
   ]
  },
  {
   "cell_type": "code",
   "execution_count": 10,
   "metadata": {},
   "outputs": [
    {
     "data": {
      "text/plain": [
       "0              0.00\n",
       "1              0.00\n",
       "2              0.00\n",
       "3              0.00\n",
       "4              0.00\n",
       "             ...   \n",
       "42521757     200.00\n",
       "42521758     100.00\n",
       "42521759     100.00\n",
       "42521760   1,500.00\n",
       "42521761   5,000.00\n",
       "Name: capital_social_empresa, Length: 42521762, dtype: float64"
      ]
     },
     "execution_count": 10,
     "metadata": {},
     "output_type": "execute_result"
    }
   ],
   "source": [
    "df_cnpjs['capital_social_empresa']"
   ]
  },
  {
   "cell_type": "markdown",
   "metadata": {},
   "source": [
    "*  Distribuição de Empresas - Ano de Abertura "
   ]
  },
  {
   "cell_type": "markdown",
   "metadata": {},
   "source": [
    "*  Distribuição de Empresas - Ano de Encerramento"
   ]
  },
  {
   "cell_type": "code",
   "execution_count": null,
   "metadata": {},
   "outputs": [],
   "source": []
  },
  {
   "cell_type": "code",
   "execution_count": null,
   "metadata": {},
   "outputs": [],
   "source": []
  },
  {
   "cell_type": "code",
   "execution_count": null,
   "metadata": {},
   "outputs": [],
   "source": []
  },
  {
   "cell_type": "code",
   "execution_count": null,
   "metadata": {},
   "outputs": [],
   "source": []
  },
  {
   "cell_type": "code",
   "execution_count": null,
   "metadata": {},
   "outputs": [],
   "source": [
    "porte = pd.DataFrame(df_cnpjs['porte_empresa'].value_counts()).reset_index()\n",
    "porte.columns = ['Porte da Empresa','Qtd empresas']\n",
    "porte['%Total'] = (porte['Qtd empresas']/len(df_cnpjs))*100\n",
    "porte"
   ]
  },
  {
   "cell_type": "code",
   "execution_count": 43,
   "metadata": {},
   "outputs": [
    {
     "name": "stdout",
     "output_type": "stream",
     "text": [
      "*** Distribuição de Empresas - Porte *** \n"
     ]
    },
    {
     "data": {
      "text/html": [
       "<div>\n",
       "<style scoped>\n",
       "    .dataframe tbody tr th:only-of-type {\n",
       "        vertical-align: middle;\n",
       "    }\n",
       "\n",
       "    .dataframe tbody tr th {\n",
       "        vertical-align: top;\n",
       "    }\n",
       "\n",
       "    .dataframe thead th {\n",
       "        text-align: right;\n",
       "    }\n",
       "</style>\n",
       "<table border=\"1\" class=\"dataframe\">\n",
       "  <thead>\n",
       "    <tr style=\"text-align: right;\">\n",
       "      <th></th>\n",
       "      <th>Porte da Empresa</th>\n",
       "      <th>Qtd empresas</th>\n",
       "      <th>%Total</th>\n",
       "    </tr>\n",
       "  </thead>\n",
       "  <tbody>\n",
       "    <tr>\n",
       "      <td>0</td>\n",
       "      <td>MICRO EMPRESA</td>\n",
       "      <td>28785215</td>\n",
       "      <td>67.70</td>\n",
       "    </tr>\n",
       "    <tr>\n",
       "      <td>1</td>\n",
       "      <td>DEMAIS</td>\n",
       "      <td>12444294</td>\n",
       "      <td>29.27</td>\n",
       "    </tr>\n",
       "    <tr>\n",
       "      <td>2</td>\n",
       "      <td>EMPRESA DE PEQUENO PORTE</td>\n",
       "      <td>1292241</td>\n",
       "      <td>3.04</td>\n",
       "    </tr>\n",
       "    <tr>\n",
       "      <td>3</td>\n",
       "      <td>NAO INFORMADO</td>\n",
       "      <td>12</td>\n",
       "      <td>0.00</td>\n",
       "    </tr>\n",
       "  </tbody>\n",
       "</table>\n",
       "</div>"
      ],
      "text/plain": [
       "            Porte da Empresa  Qtd empresas  %Total\n",
       "0              MICRO EMPRESA      28785215   67.70\n",
       "1                     DEMAIS      12444294   29.27\n",
       "2   EMPRESA DE PEQUENO PORTE       1292241    3.04\n",
       "3              NAO INFORMADO            12    0.00"
      ]
     },
     "execution_count": 43,
     "metadata": {},
     "output_type": "execute_result"
    }
   ],
   "source": [
    "print ('*** Distribuição de Empresas - Porte *** ')\n"
   ]
  },
  {
   "cell_type": "markdown",
   "metadata": {},
   "source": [
    "### 2. CNAE"
   ]
  },
  {
   "cell_type": "code",
   "execution_count": 31,
   "metadata": {
    "scrolled": true
   },
   "outputs": [
    {
     "data": {
      "text/html": [
       "<div>\n",
       "<style scoped>\n",
       "    .dataframe tbody tr th:only-of-type {\n",
       "        vertical-align: middle;\n",
       "    }\n",
       "\n",
       "    .dataframe tbody tr th {\n",
       "        vertical-align: top;\n",
       "    }\n",
       "\n",
       "    .dataframe thead th {\n",
       "        text-align: right;\n",
       "    }\n",
       "</style>\n",
       "<table border=\"1\" class=\"dataframe\">\n",
       "  <thead>\n",
       "    <tr style=\"text-align: right;\">\n",
       "      <th></th>\n",
       "      <th>cd_secao_cnae</th>\n",
       "      <th>descr_secao_cnae</th>\n",
       "    </tr>\n",
       "  </thead>\n",
       "  <tbody>\n",
       "    <tr>\n",
       "      <td>0</td>\n",
       "      <td>A</td>\n",
       "      <td>AGRICULTURA, PECUÁRIA, PROD FLORESTAL, PESCA E AQUICULTURA</td>\n",
       "    </tr>\n",
       "    <tr>\n",
       "      <td>1</td>\n",
       "      <td>B</td>\n",
       "      <td>INDÚSTRIAS EXTRATIVAS</td>\n",
       "    </tr>\n",
       "  </tbody>\n",
       "</table>\n",
       "</div>"
      ],
      "text/plain": [
       "  cd_secao_cnae                                            descr_secao_cnae\n",
       "0             A  AGRICULTURA, PECUÁRIA, PROD FLORESTAL, PESCA E AQUICULTURA\n",
       "1             B                                       INDÚSTRIAS EXTRATIVAS"
      ]
     },
     "execution_count": 31,
     "metadata": {},
     "output_type": "execute_result"
    }
   ],
   "source": [
    "df_desc_cnae.head(2)"
   ]
  },
  {
   "cell_type": "code",
   "execution_count": 35,
   "metadata": {},
   "outputs": [
    {
     "data": {
      "text/plain": [
       "cnpj                        int64\n",
       "cd_secao_cnae              object\n",
       "cnae                        int64\n",
       "capital_social_empresa    float64\n",
       "porte_empresa               int64\n",
       "situacao                   object\n",
       "abertura                   object\n",
       "ativa                       int64\n",
       "codigo_ibge                 int64\n",
       "municipio                  object\n",
       "uf                         object\n",
       "cep                       float64\n",
       "dtype: object"
      ]
     },
     "execution_count": 35,
     "metadata": {},
     "output_type": "execute_result"
    }
   ],
   "source": [
    "df_cnpjs.dtypes"
   ]
  },
  {
   "cell_type": "code",
   "execution_count": null,
   "metadata": {},
   "outputs": [],
   "source": [
    "parse_dates=['data_inversa']"
   ]
  }
 ],
 "metadata": {
  "kernelspec": {
   "display_name": "Python 3",
   "language": "python",
   "name": "python3"
  },
  "language_info": {
   "codemirror_mode": {
    "name": "ipython",
    "version": 3
   },
   "file_extension": ".py",
   "mimetype": "text/x-python",
   "name": "python",
   "nbconvert_exporter": "python",
   "pygments_lexer": "ipython3",
   "version": "3.7.4"
  }
 },
 "nbformat": 4,
 "nbformat_minor": 2
}
