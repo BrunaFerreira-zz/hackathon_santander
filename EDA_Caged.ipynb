{
 "cells": [
  {
   "cell_type": "code",
   "execution_count": 1,
   "metadata": {},
   "outputs": [],
   "source": [
    "import pandas as pd \n",
    "import numpy as np\n",
    "import matplotlib.pyplot as plt\n",
    "%matplotlib inline\n",
    "pd.options.display.float_format = '{:,.2f}'.format\n",
    "pd.options.display.max_colwidth = 200"
   ]
  },
  {
   "cell_type": "code",
   "execution_count": 2,
   "metadata": {},
   "outputs": [],
   "source": [
    "### Import Bases\n",
    "df = pd.read_csv('data/cagedPreFiltradoFinal.csv', encoding='utf-8')\n",
    "df_desc_cnae = pd.read_csv('data/descricao_cnae.csv',encoding='latin1')"
   ]
  },
  {
   "cell_type": "code",
   "execution_count": 3,
   "metadata": {},
   "outputs": [],
   "source": [
    "df.columns = ['cd_secao_cnae','cd_municipio','municipio','uf','faixa_empregados','competencia','fluxo']\n",
    "# Descrição do Porte da Empresa\n",
    "df['faixa_empregados_descr']= df['faixa_empregados'].replace([-1,1,2,3,4,5,6,7,8,9],\n",
    "                                                                   ['IGNORADO',\n",
    "                                                                    'ATE 4',\n",
    "                                                                    'DE 5 A 9',\n",
    "                                                                    'DE 10 A 19',\n",
    "                                                                    'DE 20 A 49',\n",
    "                                                                    'DE 50 A 99',\n",
    "                                                                    'DE 100 A 249',\n",
    "                                                                    'DE 250 A 499',\n",
    "                                                                    'DE 500 A 999',\n",
    "                                                                    '1000 OU MAIS'])\n",
    "\n",
    "# Join para incluir descrição do CNAE\n",
    "df = pd.merge(df, df_desc_cnae,how='left', on=['cd_secao_cnae'])\n",
    "df['data_ref'] = (df['competencia'].str[:4])+(df['competencia'].str[5:].str[:2])\n",
    "df['ano_ref'] = (df['competencia'].str[:4])\n",
    "df['data_ref'] = df['data_ref'].astype(int)\n",
    "df['ano_ref'] = df['ano_ref'].astype(int)"
   ]
  },
  {
   "cell_type": "code",
   "execution_count": 4,
   "metadata": {},
   "outputs": [
    {
     "data": {
      "text/html": [
       "<div>\n",
       "<style scoped>\n",
       "    .dataframe tbody tr th:only-of-type {\n",
       "        vertical-align: middle;\n",
       "    }\n",
       "\n",
       "    .dataframe tbody tr th {\n",
       "        vertical-align: top;\n",
       "    }\n",
       "\n",
       "    .dataframe thead th {\n",
       "        text-align: right;\n",
       "    }\n",
       "</style>\n",
       "<table border=\"1\" class=\"dataframe\">\n",
       "  <thead>\n",
       "    <tr style=\"text-align: right;\">\n",
       "      <th></th>\n",
       "      <th>cd_secao_cnae</th>\n",
       "      <th>cd_municipio</th>\n",
       "      <th>municipio</th>\n",
       "      <th>uf</th>\n",
       "      <th>faixa_empregados</th>\n",
       "      <th>competencia</th>\n",
       "      <th>fluxo</th>\n",
       "      <th>faixa_empregados_descr</th>\n",
       "      <th>descr_secao_cnae</th>\n",
       "      <th>data_ref</th>\n",
       "      <th>ano_ref</th>\n",
       "    </tr>\n",
       "  </thead>\n",
       "  <tbody>\n",
       "    <tr>\n",
       "      <td>0</td>\n",
       "      <td>A</td>\n",
       "      <td>5200050</td>\n",
       "      <td>ABADIA DE GOIAS</td>\n",
       "      <td>GO</td>\n",
       "      <td>1</td>\n",
       "      <td>2018-09-01</td>\n",
       "      <td>1</td>\n",
       "      <td>ATE 4</td>\n",
       "      <td>AGRICULTURA, PECUÁRIA, PROD FLORESTAL, PESCA E AQUICULTURA</td>\n",
       "      <td>201809</td>\n",
       "      <td>2018</td>\n",
       "    </tr>\n",
       "    <tr>\n",
       "      <td>1</td>\n",
       "      <td>A</td>\n",
       "      <td>5200050</td>\n",
       "      <td>ABADIA DE GOIAS</td>\n",
       "      <td>GO</td>\n",
       "      <td>1</td>\n",
       "      <td>2019-04-01</td>\n",
       "      <td>1</td>\n",
       "      <td>ATE 4</td>\n",
       "      <td>AGRICULTURA, PECUÁRIA, PROD FLORESTAL, PESCA E AQUICULTURA</td>\n",
       "      <td>201904</td>\n",
       "      <td>2019</td>\n",
       "    </tr>\n",
       "  </tbody>\n",
       "</table>\n",
       "</div>"
      ],
      "text/plain": [
       "  cd_secao_cnae  cd_municipio        municipio  uf  faixa_empregados  \\\n",
       "0             A       5200050  ABADIA DE GOIAS  GO                 1   \n",
       "1             A       5200050  ABADIA DE GOIAS  GO                 1   \n",
       "\n",
       "  competencia  fluxo faixa_empregados_descr  \\\n",
       "0  2018-09-01      1                  ATE 4   \n",
       "1  2019-04-01      1                  ATE 4   \n",
       "\n",
       "                                             descr_secao_cnae  data_ref  \\\n",
       "0  AGRICULTURA, PECUÁRIA, PROD FLORESTAL, PESCA E AQUICULTURA    201809   \n",
       "1  AGRICULTURA, PECUÁRIA, PROD FLORESTAL, PESCA E AQUICULTURA    201904   \n",
       "\n",
       "   ano_ref  \n",
       "0     2018  \n",
       "1     2019  "
      ]
     },
     "execution_count": 4,
     "metadata": {},
     "output_type": "execute_result"
    }
   ],
   "source": [
    "df.head(2)"
   ]
  },
  {
   "cell_type": "code",
   "execution_count": 5,
   "metadata": {},
   "outputs": [],
   "source": [
    "df_caged = df.copy()"
   ]
  },
  {
   "cell_type": "code",
   "execution_count": 6,
   "metadata": {},
   "outputs": [
    {
     "data": {
      "text/plain": [
       "(16142269, 11)"
      ]
     },
     "execution_count": 6,
     "metadata": {},
     "output_type": "execute_result"
    }
   ],
   "source": [
    "df_caged.shape"
   ]
  },
  {
   "cell_type": "markdown",
   "metadata": {},
   "source": [
    "### Separando Periodo da pandemia (2020-02)"
   ]
  },
  {
   "cell_type": "code",
   "execution_count": 7,
   "metadata": {},
   "outputs": [],
   "source": [
    "antes = df_caged[df_caged['data_ref']<202002]"
   ]
  },
  {
   "cell_type": "code",
   "execution_count": 8,
   "metadata": {},
   "outputs": [],
   "source": [
    "depois = df_caged[df_caged['data_ref']>202001]"
   ]
  },
  {
   "cell_type": "markdown",
   "metadata": {},
   "source": [
    "###  Contrações Antes e Depois da Pandemia (Antes de Fevereiro 2020)"
   ]
  },
  {
   "cell_type": "code",
   "execution_count": 9,
   "metadata": {},
   "outputs": [
    {
     "data": {
      "text/html": [
       "<div>\n",
       "<style scoped>\n",
       "    .dataframe tbody tr th:only-of-type {\n",
       "        vertical-align: middle;\n",
       "    }\n",
       "\n",
       "    .dataframe tbody tr th {\n",
       "        vertical-align: top;\n",
       "    }\n",
       "\n",
       "    .dataframe thead th {\n",
       "        text-align: right;\n",
       "    }\n",
       "</style>\n",
       "<table border=\"1\" class=\"dataframe\">\n",
       "  <thead>\n",
       "    <tr style=\"text-align: right;\">\n",
       "      <th></th>\n",
       "      <th>data_ref</th>\n",
       "      <th>fluxo</th>\n",
       "    </tr>\n",
       "  </thead>\n",
       "  <tbody>\n",
       "    <tr>\n",
       "      <td>132</td>\n",
       "      <td>201802</td>\n",
       "      <td>68760</td>\n",
       "    </tr>\n",
       "    <tr>\n",
       "      <td>133</td>\n",
       "      <td>201803</td>\n",
       "      <td>58609</td>\n",
       "    </tr>\n",
       "    <tr>\n",
       "      <td>134</td>\n",
       "      <td>201804</td>\n",
       "      <td>120387</td>\n",
       "    </tr>\n",
       "    <tr>\n",
       "      <td>135</td>\n",
       "      <td>201805</td>\n",
       "      <td>9313</td>\n",
       "    </tr>\n",
       "    <tr>\n",
       "      <td>136</td>\n",
       "      <td>201806</td>\n",
       "      <td>-28244</td>\n",
       "    </tr>\n",
       "    <tr>\n",
       "      <td>137</td>\n",
       "      <td>201807</td>\n",
       "      <td>39235</td>\n",
       "    </tr>\n",
       "    <tr>\n",
       "      <td>138</td>\n",
       "      <td>201808</td>\n",
       "      <td>125735</td>\n",
       "    </tr>\n",
       "    <tr>\n",
       "      <td>139</td>\n",
       "      <td>201809</td>\n",
       "      <td>159736</td>\n",
       "    </tr>\n",
       "    <tr>\n",
       "      <td>140</td>\n",
       "      <td>201810</td>\n",
       "      <td>72319</td>\n",
       "    </tr>\n",
       "    <tr>\n",
       "      <td>141</td>\n",
       "      <td>201811</td>\n",
       "      <td>78821</td>\n",
       "    </tr>\n",
       "  </tbody>\n",
       "</table>\n",
       "</div>"
      ],
      "text/plain": [
       "     data_ref   fluxo\n",
       "132    201802   68760\n",
       "133    201803   58609\n",
       "134    201804  120387\n",
       "135    201805    9313\n",
       "136    201806  -28244\n",
       "137    201807   39235\n",
       "138    201808  125735\n",
       "139    201809  159736\n",
       "140    201810   72319\n",
       "141    201811   78821"
      ]
     },
     "execution_count": 9,
     "metadata": {},
     "output_type": "execute_result"
    }
   ],
   "source": [
    "#Antes da pandemia\n",
    "fluxo = antes[['fluxo','data_ref']].groupby(['data_ref']).sum()\n",
    "fluxo = fluxo.reset_index()\n",
    "fluxo_antes = fluxo[fluxo['data_ref']>201801]\n",
    "fluxo_antes.head(10)"
   ]
  },
  {
   "cell_type": "code",
   "execution_count": 10,
   "metadata": {},
   "outputs": [
    {
     "data": {
      "text/html": [
       "<div>\n",
       "<style scoped>\n",
       "    .dataframe tbody tr th:only-of-type {\n",
       "        vertical-align: middle;\n",
       "    }\n",
       "\n",
       "    .dataframe tbody tr th {\n",
       "        vertical-align: top;\n",
       "    }\n",
       "\n",
       "    .dataframe thead th {\n",
       "        text-align: right;\n",
       "    }\n",
       "</style>\n",
       "<table border=\"1\" class=\"dataframe\">\n",
       "  <thead>\n",
       "    <tr style=\"text-align: right;\">\n",
       "      <th></th>\n",
       "      <th>data_ref</th>\n",
       "      <th>fluxo</th>\n",
       "    </tr>\n",
       "  </thead>\n",
       "  <tbody>\n",
       "    <tr>\n",
       "      <td>0</td>\n",
       "      <td>202002</td>\n",
       "      <td>230180</td>\n",
       "    </tr>\n",
       "    <tr>\n",
       "      <td>1</td>\n",
       "      <td>202003</td>\n",
       "      <td>-260313</td>\n",
       "    </tr>\n",
       "    <tr>\n",
       "      <td>2</td>\n",
       "      <td>202004</td>\n",
       "      <td>-952125</td>\n",
       "    </tr>\n",
       "    <tr>\n",
       "      <td>3</td>\n",
       "      <td>202005</td>\n",
       "      <td>-379140</td>\n",
       "    </tr>\n",
       "    <tr>\n",
       "      <td>4</td>\n",
       "      <td>202006</td>\n",
       "      <td>-31460</td>\n",
       "    </tr>\n",
       "  </tbody>\n",
       "</table>\n",
       "</div>"
      ],
      "text/plain": [
       "   data_ref   fluxo\n",
       "0    202002  230180\n",
       "1    202003 -260313\n",
       "2    202004 -952125\n",
       "3    202005 -379140\n",
       "4    202006  -31460"
      ]
     },
     "execution_count": 10,
     "metadata": {},
     "output_type": "execute_result"
    }
   ],
   "source": [
    "#Depois\n",
    "fluxo = depois[['fluxo','data_ref']].groupby(['data_ref']).sum()\n",
    "fluxo_depois = fluxo.reset_index()\n",
    "fluxo_depois.head(10)"
   ]
  },
  {
   "cell_type": "code",
   "execution_count": 11,
   "metadata": {},
   "outputs": [
    {
     "data": {
      "text/plain": [
       "Text(0.5, 0, 'Periodo')"
      ]
     },
     "execution_count": 11,
     "metadata": {},
     "output_type": "execute_result"
    },
    {
     "data": {
      "image/png": "[encoded data removed]",
      "text/plain": [
       "<Figure size 720x288 with 1 Axes>"
      ]
     },
     "metadata": {
      "needs_background": "light"
     },
     "output_type": "display_data"
    },
    {
     "data": {
      "image/png": "[encoded data removed]",
      "text/plain": [
       "<Figure size 720x288 with 1 Axes>"
      ]
     },
     "metadata": {
      "needs_background": "light"
     },
     "output_type": "display_data"
    }
   ],
   "source": [
    "ax = fluxo_antes.plot(kind = \"bar\", x = 'data_ref',title = \" Contratações e Demissões antes da Pandemia\",figsize = (10,4))\n",
    "ax.set_xlabel(\"Periodo\")\n",
    "ax = fluxo_depois.plot(kind = \"bar\", x = 'data_ref',title = \" Contratações e Demissões após inicio da Pandemia\",color = 'green',figsize = (10,4))\n",
    "\n",
    "ax.set_xlabel(\"Periodo\")"
   ]
  },
  {
   "cell_type": "markdown",
   "metadata": {},
   "source": [
    "###  Contrações Com \"Janela\" de Quatro meses da Pandemia por Estados\n",
    "* Antes  (Out-19 a Jan-20)  \n",
    "* Depois (Fev-20 a Jun-20) "
   ]
  },
  {
   "cell_type": "code",
   "execution_count": 12,
   "metadata": {},
   "outputs": [
    {
     "data": {
      "text/html": [
       "<div>\n",
       "<style scoped>\n",
       "    .dataframe tbody tr th:only-of-type {\n",
       "        vertical-align: middle;\n",
       "    }\n",
       "\n",
       "    .dataframe tbody tr th {\n",
       "        vertical-align: top;\n",
       "    }\n",
       "\n",
       "    .dataframe thead th {\n",
       "        text-align: right;\n",
       "    }\n",
       "</style>\n",
       "<table border=\"1\" class=\"dataframe\">\n",
       "  <thead>\n",
       "    <tr style=\"text-align: right;\">\n",
       "      <th></th>\n",
       "      <th>uf</th>\n",
       "      <th>fluxo</th>\n",
       "    </tr>\n",
       "  </thead>\n",
       "  <tbody>\n",
       "    <tr>\n",
       "      <td>0</td>\n",
       "      <td>AC</td>\n",
       "      <td>-954</td>\n",
       "    </tr>\n",
       "    <tr>\n",
       "      <td>1</td>\n",
       "      <td>AL</td>\n",
       "      <td>-2541</td>\n",
       "    </tr>\n",
       "    <tr>\n",
       "      <td>2</td>\n",
       "      <td>AM</td>\n",
       "      <td>-691</td>\n",
       "    </tr>\n",
       "    <tr>\n",
       "      <td>3</td>\n",
       "      <td>AP</td>\n",
       "      <td>154</td>\n",
       "    </tr>\n",
       "    <tr>\n",
       "      <td>4</td>\n",
       "      <td>BA</td>\n",
       "      <td>-5018</td>\n",
       "    </tr>\n",
       "  </tbody>\n",
       "</table>\n",
       "</div>"
      ],
      "text/plain": [
       "   uf  fluxo\n",
       "0  AC   -954\n",
       "1  AL  -2541\n",
       "2  AM   -691\n",
       "3  AP    154\n",
       "4  BA  -5018"
      ]
     },
     "execution_count": 12,
     "metadata": {},
     "output_type": "execute_result"
    }
   ],
   "source": [
    "#Antes\n",
    "antes_filtro = antes[antes['data_ref']>201909]\n",
    "fluxo_antes = antes_filtro[['fluxo','uf']].groupby(['uf']).sum()\n",
    "fluxo_antes = fluxo_antes.reset_index()\n",
    "fluxo_antes.head()"
   ]
  },
  {
   "cell_type": "code",
   "execution_count": 13,
   "metadata": {
    "scrolled": true
   },
   "outputs": [
    {
     "data": {
      "text/html": [
       "<div>\n",
       "<style scoped>\n",
       "    .dataframe tbody tr th:only-of-type {\n",
       "        vertical-align: middle;\n",
       "    }\n",
       "\n",
       "    .dataframe tbody tr th {\n",
       "        vertical-align: top;\n",
       "    }\n",
       "\n",
       "    .dataframe thead th {\n",
       "        text-align: right;\n",
       "    }\n",
       "</style>\n",
       "<table border=\"1\" class=\"dataframe\">\n",
       "  <thead>\n",
       "    <tr style=\"text-align: right;\">\n",
       "      <th></th>\n",
       "      <th>uf</th>\n",
       "      <th>fluxo</th>\n",
       "    </tr>\n",
       "  </thead>\n",
       "  <tbody>\n",
       "    <tr>\n",
       "      <td>0</td>\n",
       "      <td>AC</td>\n",
       "      <td>669</td>\n",
       "    </tr>\n",
       "    <tr>\n",
       "      <td>1</td>\n",
       "      <td>AL</td>\n",
       "      <td>-35643</td>\n",
       "    </tr>\n",
       "    <tr>\n",
       "      <td>2</td>\n",
       "      <td>AM</td>\n",
       "      <td>-15487</td>\n",
       "    </tr>\n",
       "    <tr>\n",
       "      <td>3</td>\n",
       "      <td>AP</td>\n",
       "      <td>-1573</td>\n",
       "    </tr>\n",
       "    <tr>\n",
       "      <td>4</td>\n",
       "      <td>BA</td>\n",
       "      <td>-59179</td>\n",
       "    </tr>\n",
       "  </tbody>\n",
       "</table>\n",
       "</div>"
      ],
      "text/plain": [
       "   uf  fluxo\n",
       "0  AC    669\n",
       "1  AL -35643\n",
       "2  AM -15487\n",
       "3  AP  -1573\n",
       "4  BA -59179"
      ]
     },
     "execution_count": 13,
     "metadata": {},
     "output_type": "execute_result"
    }
   ],
   "source": [
    "#Depois\n",
    "fluxo_depois = depois[['fluxo','uf']].groupby(['uf']).sum()\n",
    "fluxo_depois = fluxo_depois.reset_index()\n",
    "fluxo_depois.head()"
   ]
  },
  {
   "cell_type": "code",
   "execution_count": 14,
   "metadata": {
    "scrolled": true
   },
   "outputs": [
    {
     "data": {
      "text/plain": [
       "Text(0.5, 0, 'Estados - UF')"
      ]
     },
     "execution_count": 14,
     "metadata": {},
     "output_type": "execute_result"
    },
    {
     "data": {
      "image/png": "[encoded data removed]",
      "text/plain": [
       "<Figure size 720x360 with 1 Axes>"
      ]
     },
     "metadata": {
      "needs_background": "light"
     },
     "output_type": "display_data"
    },
    {
     "data": {
      "image/png": "[encoded data removed]",
      "text/plain": [
       "<Figure size 720x360 with 1 Axes>"
      ]
     },
     "metadata": {
      "needs_background": "light"
     },
     "output_type": "display_data"
    }
   ],
   "source": [
    "ax = fluxo_antes.plot(kind = \"bar\", x = 'uf',title = \" Contratações e Demissões 4 meses anteriores a Pandemia\",figsize = (10,5))\n",
    "ax.set_xlabel(\"Estados - UF\")\n",
    "ax = fluxo_depois.plot(kind = \"bar\", x = 'uf',title = \" Contratações e Demissões 4 meses após inicio da Pandemia\",color = 'green',figsize = (10,5))\n",
    "ax.set_xlabel(\"Estados - UF\")"
   ]
  },
  {
   "cell_type": "markdown",
   "metadata": {},
   "source": [
    "###  Estados que tiveram saldo positivo de empregos após a Pandemia"
   ]
  },
  {
   "cell_type": "code",
   "execution_count": 15,
   "metadata": {
    "scrolled": true
   },
   "outputs": [
    {
     "data": {
      "text/html": [
       "<div>\n",
       "<style scoped>\n",
       "    .dataframe tbody tr th:only-of-type {\n",
       "        vertical-align: middle;\n",
       "    }\n",
       "\n",
       "    .dataframe tbody tr th {\n",
       "        vertical-align: top;\n",
       "    }\n",
       "\n",
       "    .dataframe thead th {\n",
       "        text-align: right;\n",
       "    }\n",
       "</style>\n",
       "<table border=\"1\" class=\"dataframe\">\n",
       "  <thead>\n",
       "    <tr style=\"text-align: right;\">\n",
       "      <th></th>\n",
       "      <th>uf</th>\n",
       "      <th>fluxo</th>\n",
       "    </tr>\n",
       "  </thead>\n",
       "  <tbody>\n",
       "    <tr>\n",
       "      <td>0</td>\n",
       "      <td>AC</td>\n",
       "      <td>669</td>\n",
       "    </tr>\n",
       "    <tr>\n",
       "      <td>21</td>\n",
       "      <td>RR</td>\n",
       "      <td>-727</td>\n",
       "    </tr>\n",
       "    <tr>\n",
       "      <td>3</td>\n",
       "      <td>AP</td>\n",
       "      <td>-1573</td>\n",
       "    </tr>\n",
       "    <tr>\n",
       "      <td>11</td>\n",
       "      <td>MS</td>\n",
       "      <td>-2474</td>\n",
       "    </tr>\n",
       "    <tr>\n",
       "      <td>12</td>\n",
       "      <td>MT</td>\n",
       "      <td>-4391</td>\n",
       "    </tr>\n",
       "  </tbody>\n",
       "</table>\n",
       "</div>"
      ],
      "text/plain": [
       "    uf  fluxo\n",
       "0   AC    669\n",
       "21  RR   -727\n",
       "3   AP  -1573\n",
       "11  MS  -2474\n",
       "12  MT  -4391"
      ]
     },
     "execution_count": 15,
     "metadata": {},
     "output_type": "execute_result"
    }
   ],
   "source": [
    "fluxo_depois.sort_values(by = 'fluxo', ascending = False).head(5)"
   ]
  },
  {
   "cell_type": "markdown",
   "metadata": {},
   "source": [
    "###  Estados que tiveram maior saldo negativo de empregos após a Pandemia"
   ]
  },
  {
   "cell_type": "code",
   "execution_count": 16,
   "metadata": {},
   "outputs": [
    {
     "data": {
      "text/html": [
       "<div>\n",
       "<style scoped>\n",
       "    .dataframe tbody tr th:only-of-type {\n",
       "        vertical-align: middle;\n",
       "    }\n",
       "\n",
       "    .dataframe tbody tr th {\n",
       "        vertical-align: top;\n",
       "    }\n",
       "\n",
       "    .dataframe thead th {\n",
       "        text-align: right;\n",
       "    }\n",
       "</style>\n",
       "<table border=\"1\" class=\"dataframe\">\n",
       "  <thead>\n",
       "    <tr style=\"text-align: right;\">\n",
       "      <th></th>\n",
       "      <th>uf</th>\n",
       "      <th>fluxo</th>\n",
       "    </tr>\n",
       "  </thead>\n",
       "  <tbody>\n",
       "    <tr>\n",
       "      <td>25</td>\n",
       "      <td>SP</td>\n",
       "      <td>-432868</td>\n",
       "    </tr>\n",
       "    <tr>\n",
       "      <td>18</td>\n",
       "      <td>RJ</td>\n",
       "      <td>-173430</td>\n",
       "    </tr>\n",
       "    <tr>\n",
       "      <td>10</td>\n",
       "      <td>MG</td>\n",
       "      <td>-123453</td>\n",
       "    </tr>\n",
       "    <tr>\n",
       "      <td>22</td>\n",
       "      <td>RS</td>\n",
       "      <td>-105606</td>\n",
       "    </tr>\n",
       "    <tr>\n",
       "      <td>23</td>\n",
       "      <td>SC</td>\n",
       "      <td>-87052</td>\n",
       "    </tr>\n",
       "  </tbody>\n",
       "</table>\n",
       "</div>"
      ],
      "text/plain": [
       "    uf   fluxo\n",
       "25  SP -432868\n",
       "18  RJ -173430\n",
       "10  MG -123453\n",
       "22  RS -105606\n",
       "23  SC  -87052"
      ]
     },
     "execution_count": 16,
     "metadata": {},
     "output_type": "execute_result"
    }
   ],
   "source": [
    "fluxo_depois.sort_values(by = 'fluxo', ascending = True).head(5)"
   ]
  },
  {
   "cell_type": "markdown",
   "metadata": {},
   "source": [
    "###  CNAES que mais contraram \n",
    "####  4 meses antes da Pandemia"
   ]
  },
  {
   "cell_type": "code",
   "execution_count": 17,
   "metadata": {
    "scrolled": true
   },
   "outputs": [
    {
     "data": {
      "text/html": [
       "<div>\n",
       "<style scoped>\n",
       "    .dataframe tbody tr th:only-of-type {\n",
       "        vertical-align: middle;\n",
       "    }\n",
       "\n",
       "    .dataframe tbody tr th {\n",
       "        vertical-align: top;\n",
       "    }\n",
       "\n",
       "    .dataframe thead th {\n",
       "        text-align: right;\n",
       "    }\n",
       "</style>\n",
       "<table border=\"1\" class=\"dataframe\">\n",
       "  <thead>\n",
       "    <tr style=\"text-align: right;\">\n",
       "      <th></th>\n",
       "      <th>Ramo de Atividade</th>\n",
       "      <th>Novos Empregos</th>\n",
       "    </tr>\n",
       "  </thead>\n",
       "  <tbody>\n",
       "    <tr>\n",
       "      <td>8</td>\n",
       "      <td>COMÉRCIO; REPARAÇÃO DE VEÍCULOS AUTOMOTORES E MOTOCICLETAS</td>\n",
       "      <td>128155</td>\n",
       "    </tr>\n",
       "    <tr>\n",
       "      <td>2</td>\n",
       "      <td>ALOJAMENTO E ALIMENTAÇÃO</td>\n",
       "      <td>32894</td>\n",
       "    </tr>\n",
       "    <tr>\n",
       "      <td>4</td>\n",
       "      <td>ATIVIDADES ADMINISTRATIVAS E SERVIÇOS COMPLEMENTARES</td>\n",
       "      <td>32675</td>\n",
       "    </tr>\n",
       "    <tr>\n",
       "      <td>17</td>\n",
       "      <td>SAÚDE HUMANA E SERVIÇOS SOCIAIS</td>\n",
       "      <td>12980</td>\n",
       "    </tr>\n",
       "    <tr>\n",
       "      <td>7</td>\n",
       "      <td>ATIVIDADES PROFISSIONAIS, CIENTÍFICAS E TÉCNICAS</td>\n",
       "      <td>10897</td>\n",
       "    </tr>\n",
       "    <tr>\n",
       "      <td>14</td>\n",
       "      <td>INFORMAÇÃO E COMUNICAÇÃO</td>\n",
       "      <td>9995</td>\n",
       "    </tr>\n",
       "    <tr>\n",
       "      <td>3</td>\n",
       "      <td>ARTES, CULTURA, ESPORTE E RECREAÇÃO</td>\n",
       "      <td>3140</td>\n",
       "    </tr>\n",
       "    <tr>\n",
       "      <td>6</td>\n",
       "      <td>ATIVIDADES IMOBILIÁRIAS</td>\n",
       "      <td>900</td>\n",
       "    </tr>\n",
       "    <tr>\n",
       "      <td>20</td>\n",
       "      <td>ÁGUA, ESGOTO, ATIVIDADES DE GESTÃO DE RESÍDUOS E DESCONTAMINAÇÃO</td>\n",
       "      <td>328</td>\n",
       "    </tr>\n",
       "    <tr>\n",
       "      <td>15</td>\n",
       "      <td>ORGANISMOS INTERNACIONAIS E OUTRAS INSTITUIÇÕES EXTRATERRITORIAIS</td>\n",
       "      <td>41</td>\n",
       "    </tr>\n",
       "  </tbody>\n",
       "</table>\n",
       "</div>"
      ],
      "text/plain": [
       "                                                    Ramo de Atividade  \\\n",
       "8          COMÉRCIO; REPARAÇÃO DE VEÍCULOS AUTOMOTORES E MOTOCICLETAS   \n",
       "2                                            ALOJAMENTO E ALIMENTAÇÃO   \n",
       "4                ATIVIDADES ADMINISTRATIVAS E SERVIÇOS COMPLEMENTARES   \n",
       "17                                    SAÚDE HUMANA E SERVIÇOS SOCIAIS   \n",
       "7                    ATIVIDADES PROFISSIONAIS, CIENTÍFICAS E TÉCNICAS   \n",
       "14                                           INFORMAÇÃO E COMUNICAÇÃO   \n",
       "3                                 ARTES, CULTURA, ESPORTE E RECREAÇÃO   \n",
       "6                                             ATIVIDADES IMOBILIÁRIAS   \n",
       "20   ÁGUA, ESGOTO, ATIVIDADES DE GESTÃO DE RESÍDUOS E DESCONTAMINAÇÃO   \n",
       "15  ORGANISMOS INTERNACIONAIS E OUTRAS INSTITUIÇÕES EXTRATERRITORIAIS   \n",
       "\n",
       "    Novos Empregos  \n",
       "8           128155  \n",
       "2            32894  \n",
       "4            32675  \n",
       "17           12980  \n",
       "7            10897  \n",
       "14            9995  \n",
       "3             3140  \n",
       "6              900  \n",
       "20             328  \n",
       "15              41  "
      ]
     },
     "execution_count": 17,
     "metadata": {},
     "output_type": "execute_result"
    }
   ],
   "source": [
    "valor_antes_cnae = antes_filtro[['descr_secao_cnae','fluxo']].groupby(['descr_secao_cnae']).sum()\n",
    "valor_antes_cnae = valor_antes_cnae.reset_index()\n",
    "valor_antes_cnae.columns = ['Ramo de Atividade','Novos Empregos']\n",
    "valor_antes_cnae.sort_values(by = 'Novos Empregos', ascending = False ).head(10)"
   ]
  },
  {
   "cell_type": "markdown",
   "metadata": {},
   "source": [
    "#### 4 meses depois da Pandemia"
   ]
  },
  {
   "cell_type": "code",
   "execution_count": 18,
   "metadata": {},
   "outputs": [
    {
     "data": {
      "text/html": [
       "<div>\n",
       "<style scoped>\n",
       "    .dataframe tbody tr th:only-of-type {\n",
       "        vertical-align: middle;\n",
       "    }\n",
       "\n",
       "    .dataframe tbody tr th {\n",
       "        vertical-align: top;\n",
       "    }\n",
       "\n",
       "    .dataframe thead th {\n",
       "        text-align: right;\n",
       "    }\n",
       "</style>\n",
       "<table border=\"1\" class=\"dataframe\">\n",
       "  <thead>\n",
       "    <tr style=\"text-align: right;\">\n",
       "      <th></th>\n",
       "      <th>Ramo de Atividade</th>\n",
       "      <th>Novos Empregos</th>\n",
       "    </tr>\n",
       "  </thead>\n",
       "  <tbody>\n",
       "    <tr>\n",
       "      <td>17</td>\n",
       "      <td>SAÚDE HUMANA E SERVIÇOS SOCIAIS</td>\n",
       "      <td>45012</td>\n",
       "    </tr>\n",
       "    <tr>\n",
       "      <td>0</td>\n",
       "      <td>ADMINISTRAÇÃO PÚBLICA, DEFESA E SEGURIDADE SOCIAL</td>\n",
       "      <td>16015</td>\n",
       "    </tr>\n",
       "    <tr>\n",
       "      <td>1</td>\n",
       "      <td>AGRICULTURA, PECUÁRIA, PROD FLORESTAL, PESCA E AQUICULTURA</td>\n",
       "      <td>11978</td>\n",
       "    </tr>\n",
       "    <tr>\n",
       "      <td>10</td>\n",
       "      <td>EDUCAÇÃO</td>\n",
       "      <td>3649</td>\n",
       "    </tr>\n",
       "    <tr>\n",
       "      <td>11</td>\n",
       "      <td>ELETRICIDADE E GÁS</td>\n",
       "      <td>122</td>\n",
       "    </tr>\n",
       "    <tr>\n",
       "      <td>13</td>\n",
       "      <td>INDÚSTRIAS EXTRATIVAS</td>\n",
       "      <td>104</td>\n",
       "    </tr>\n",
       "    <tr>\n",
       "      <td>15</td>\n",
       "      <td>ORGANISMOS INTERNACIONAIS E OUTRAS INSTITUIÇÕES EXTRATERRITORIAIS</td>\n",
       "      <td>-28</td>\n",
       "    </tr>\n",
       "    <tr>\n",
       "      <td>18</td>\n",
       "      <td>SERVIÇOS DOMÉSTICOS</td>\n",
       "      <td>-33</td>\n",
       "    </tr>\n",
       "    <tr>\n",
       "      <td>6</td>\n",
       "      <td>ATIVIDADES IMOBILIÁRIAS</td>\n",
       "      <td>-4441</td>\n",
       "    </tr>\n",
       "    <tr>\n",
       "      <td>20</td>\n",
       "      <td>ÁGUA, ESGOTO, ATIVIDADES DE GESTÃO DE RESÍDUOS E DESCONTAMINAÇÃO</td>\n",
       "      <td>-4777</td>\n",
       "    </tr>\n",
       "  </tbody>\n",
       "</table>\n",
       "</div>"
      ],
      "text/plain": [
       "                                                    Ramo de Atividade  \\\n",
       "17                                    SAÚDE HUMANA E SERVIÇOS SOCIAIS   \n",
       "0                   ADMINISTRAÇÃO PÚBLICA, DEFESA E SEGURIDADE SOCIAL   \n",
       "1          AGRICULTURA, PECUÁRIA, PROD FLORESTAL, PESCA E AQUICULTURA   \n",
       "10                                                           EDUCAÇÃO   \n",
       "11                                                 ELETRICIDADE E GÁS   \n",
       "13                                              INDÚSTRIAS EXTRATIVAS   \n",
       "15  ORGANISMOS INTERNACIONAIS E OUTRAS INSTITUIÇÕES EXTRATERRITORIAIS   \n",
       "18                                                SERVIÇOS DOMÉSTICOS   \n",
       "6                                             ATIVIDADES IMOBILIÁRIAS   \n",
       "20   ÁGUA, ESGOTO, ATIVIDADES DE GESTÃO DE RESÍDUOS E DESCONTAMINAÇÃO   \n",
       "\n",
       "    Novos Empregos  \n",
       "17           45012  \n",
       "0            16015  \n",
       "1            11978  \n",
       "10            3649  \n",
       "11             122  \n",
       "13             104  \n",
       "15             -28  \n",
       "18             -33  \n",
       "6            -4441  \n",
       "20           -4777  "
      ]
     },
     "execution_count": 18,
     "metadata": {},
     "output_type": "execute_result"
    }
   ],
   "source": [
    "valor_depois_cnae = depois[['descr_secao_cnae','fluxo']].groupby(['descr_secao_cnae']).sum()\n",
    "valor_depois_cnae = valor_depois_cnae.reset_index()\n",
    "valor_depois_cnae.columns = ['Ramo de Atividade','Novos Empregos']\n",
    "valor_depois_cnae.sort_values(by = 'Novos Empregos', ascending = False ).head(10)"
   ]
  },
  {
   "cell_type": "markdown",
   "metadata": {},
   "source": [
    "###  CNAES que mais demitiram \n",
    "####  4 meses antes da Pandemia"
   ]
  },
  {
   "cell_type": "code",
   "execution_count": 19,
   "metadata": {},
   "outputs": [
    {
     "data": {
      "text/html": [
       "<div>\n",
       "<style scoped>\n",
       "    .dataframe tbody tr th:only-of-type {\n",
       "        vertical-align: middle;\n",
       "    }\n",
       "\n",
       "    .dataframe tbody tr th {\n",
       "        vertical-align: top;\n",
       "    }\n",
       "\n",
       "    .dataframe thead th {\n",
       "        text-align: right;\n",
       "    }\n",
       "</style>\n",
       "<table border=\"1\" class=\"dataframe\">\n",
       "  <thead>\n",
       "    <tr style=\"text-align: right;\">\n",
       "      <th></th>\n",
       "      <th>Ramo de Atividade</th>\n",
       "      <th>Novos Empregos</th>\n",
       "    </tr>\n",
       "  </thead>\n",
       "  <tbody>\n",
       "    <tr>\n",
       "      <td>10</td>\n",
       "      <td>EDUCAÇÃO</td>\n",
       "      <td>-71920</td>\n",
       "    </tr>\n",
       "    <tr>\n",
       "      <td>12</td>\n",
       "      <td>INDÚSTRIAS DE TRANSFORMAÇÃO</td>\n",
       "      <td>-59347</td>\n",
       "    </tr>\n",
       "    <tr>\n",
       "      <td>1</td>\n",
       "      <td>AGRICULTURA, PECUÁRIA, PROD FLORESTAL, PESCA E AQUICULTURA</td>\n",
       "      <td>-42131</td>\n",
       "    </tr>\n",
       "    <tr>\n",
       "      <td>0</td>\n",
       "      <td>ADMINISTRAÇÃO PÚBLICA, DEFESA E SEGURIDADE SOCIAL</td>\n",
       "      <td>-18024</td>\n",
       "    </tr>\n",
       "    <tr>\n",
       "      <td>9</td>\n",
       "      <td>CONSTRUÇÃO</td>\n",
       "      <td>-13747</td>\n",
       "    </tr>\n",
       "    <tr>\n",
       "      <td>19</td>\n",
       "      <td>TRANSPORTE, ARMAZENAGEM E CORREIO</td>\n",
       "      <td>-11411</td>\n",
       "    </tr>\n",
       "    <tr>\n",
       "      <td>16</td>\n",
       "      <td>OUTRAS ATIVIDADES DE SERVIÇOS</td>\n",
       "      <td>-10745</td>\n",
       "    </tr>\n",
       "    <tr>\n",
       "      <td>5</td>\n",
       "      <td>ATIVIDADES FINANCEIRAS, DE SEGUROS E SERVIÇOS RELACIONADOS</td>\n",
       "      <td>-2116</td>\n",
       "    </tr>\n",
       "    <tr>\n",
       "      <td>11</td>\n",
       "      <td>ELETRICIDADE E GÁS</td>\n",
       "      <td>-1747</td>\n",
       "    </tr>\n",
       "    <tr>\n",
       "      <td>13</td>\n",
       "      <td>INDÚSTRIAS EXTRATIVAS</td>\n",
       "      <td>-271</td>\n",
       "    </tr>\n",
       "  </tbody>\n",
       "</table>\n",
       "</div>"
      ],
      "text/plain": [
       "                                             Ramo de Atividade  Novos Empregos\n",
       "10                                                    EDUCAÇÃO          -71920\n",
       "12                                 INDÚSTRIAS DE TRANSFORMAÇÃO          -59347\n",
       "1   AGRICULTURA, PECUÁRIA, PROD FLORESTAL, PESCA E AQUICULTURA          -42131\n",
       "0            ADMINISTRAÇÃO PÚBLICA, DEFESA E SEGURIDADE SOCIAL          -18024\n",
       "9                                                   CONSTRUÇÃO          -13747\n",
       "19                           TRANSPORTE, ARMAZENAGEM E CORREIO          -11411\n",
       "16                               OUTRAS ATIVIDADES DE SERVIÇOS          -10745\n",
       "5   ATIVIDADES FINANCEIRAS, DE SEGUROS E SERVIÇOS RELACIONADOS           -2116\n",
       "11                                          ELETRICIDADE E GÁS           -1747\n",
       "13                                       INDÚSTRIAS EXTRATIVAS            -271"
      ]
     },
     "execution_count": 19,
     "metadata": {},
     "output_type": "execute_result"
    }
   ],
   "source": [
    "valor_antes_cnae.sort_values(by = 'Novos Empregos', ascending = True ).head(10)"
   ]
  },
  {
   "cell_type": "markdown",
   "metadata": {},
   "source": [
    "#### 4 meses depois da Pandemia"
   ]
  },
  {
   "cell_type": "code",
   "execution_count": 20,
   "metadata": {},
   "outputs": [
    {
     "data": {
      "text/html": [
       "<div>\n",
       "<style scoped>\n",
       "    .dataframe tbody tr th:only-of-type {\n",
       "        vertical-align: middle;\n",
       "    }\n",
       "\n",
       "    .dataframe tbody tr th {\n",
       "        vertical-align: top;\n",
       "    }\n",
       "\n",
       "    .dataframe thead th {\n",
       "        text-align: right;\n",
       "    }\n",
       "</style>\n",
       "<table border=\"1\" class=\"dataframe\">\n",
       "  <thead>\n",
       "    <tr style=\"text-align: right;\">\n",
       "      <th></th>\n",
       "      <th>Ramo de Atividade</th>\n",
       "      <th>Novos Empregos</th>\n",
       "    </tr>\n",
       "  </thead>\n",
       "  <tbody>\n",
       "    <tr>\n",
       "      <td>8</td>\n",
       "      <td>COMÉRCIO; REPARAÇÃO DE VEÍCULOS AUTOMOTORES E MOTOCICLETAS</td>\n",
       "      <td>-450076</td>\n",
       "    </tr>\n",
       "    <tr>\n",
       "      <td>2</td>\n",
       "      <td>ALOJAMENTO E ALIMENTAÇÃO</td>\n",
       "      <td>-320809</td>\n",
       "    </tr>\n",
       "    <tr>\n",
       "      <td>12</td>\n",
       "      <td>INDÚSTRIAS DE TRANSFORMAÇÃO</td>\n",
       "      <td>-312316</td>\n",
       "    </tr>\n",
       "    <tr>\n",
       "      <td>4</td>\n",
       "      <td>ATIVIDADES ADMINISTRATIVAS E SERVIÇOS COMPLEMENTARES</td>\n",
       "      <td>-122856</td>\n",
       "    </tr>\n",
       "    <tr>\n",
       "      <td>19</td>\n",
       "      <td>TRANSPORTE, ARMAZENAGEM E CORREIO</td>\n",
       "      <td>-90857</td>\n",
       "    </tr>\n",
       "    <tr>\n",
       "      <td>9</td>\n",
       "      <td>CONSTRUÇÃO</td>\n",
       "      <td>-53179</td>\n",
       "    </tr>\n",
       "    <tr>\n",
       "      <td>3</td>\n",
       "      <td>ARTES, CULTURA, ESPORTE E RECREAÇÃO</td>\n",
       "      <td>-30604</td>\n",
       "    </tr>\n",
       "    <tr>\n",
       "      <td>7</td>\n",
       "      <td>ATIVIDADES PROFISSIONAIS, CIENTÍFICAS E TÉCNICAS</td>\n",
       "      <td>-30111</td>\n",
       "    </tr>\n",
       "    <tr>\n",
       "      <td>16</td>\n",
       "      <td>OUTRAS ATIVIDADES DE SERVIÇOS</td>\n",
       "      <td>-28434</td>\n",
       "    </tr>\n",
       "    <tr>\n",
       "      <td>14</td>\n",
       "      <td>INFORMAÇÃO E COMUNICAÇÃO</td>\n",
       "      <td>-14698</td>\n",
       "    </tr>\n",
       "  </tbody>\n",
       "</table>\n",
       "</div>"
      ],
      "text/plain": [
       "                                             Ramo de Atividade  Novos Empregos\n",
       "8   COMÉRCIO; REPARAÇÃO DE VEÍCULOS AUTOMOTORES E MOTOCICLETAS         -450076\n",
       "2                                     ALOJAMENTO E ALIMENTAÇÃO         -320809\n",
       "12                                 INDÚSTRIAS DE TRANSFORMAÇÃO         -312316\n",
       "4         ATIVIDADES ADMINISTRATIVAS E SERVIÇOS COMPLEMENTARES         -122856\n",
       "19                           TRANSPORTE, ARMAZENAGEM E CORREIO          -90857\n",
       "9                                                   CONSTRUÇÃO          -53179\n",
       "3                          ARTES, CULTURA, ESPORTE E RECREAÇÃO          -30604\n",
       "7             ATIVIDADES PROFISSIONAIS, CIENTÍFICAS E TÉCNICAS          -30111\n",
       "16                               OUTRAS ATIVIDADES DE SERVIÇOS          -28434\n",
       "14                                    INFORMAÇÃO E COMUNICAÇÃO          -14698"
      ]
     },
     "execution_count": 20,
     "metadata": {},
     "output_type": "execute_result"
    }
   ],
   "source": [
    "valor_depois_cnae.sort_values(by = 'Novos Empregos', ascending = True ).head(10)"
   ]
  },
  {
   "cell_type": "markdown",
   "metadata": {},
   "source": [
    "### Municipios que mais geraram emprego após a Pandemia"
   ]
  },
  {
   "cell_type": "code",
   "execution_count": 21,
   "metadata": {},
   "outputs": [
    {
     "data": {
      "text/html": [
       "<div>\n",
       "<style scoped>\n",
       "    .dataframe tbody tr th:only-of-type {\n",
       "        vertical-align: middle;\n",
       "    }\n",
       "\n",
       "    .dataframe tbody tr th {\n",
       "        vertical-align: top;\n",
       "    }\n",
       "\n",
       "    .dataframe thead th {\n",
       "        text-align: right;\n",
       "    }\n",
       "</style>\n",
       "<table border=\"1\" class=\"dataframe\">\n",
       "  <thead>\n",
       "    <tr style=\"text-align: right;\">\n",
       "      <th></th>\n",
       "      <th>Municipio</th>\n",
       "      <th>UF</th>\n",
       "      <th>Novos Empregos</th>\n",
       "    </tr>\n",
       "  </thead>\n",
       "  <tbody>\n",
       "    <tr>\n",
       "      <td>5378</td>\n",
       "      <td>VENANCIO AIRES</td>\n",
       "      <td>RS</td>\n",
       "      <td>3096</td>\n",
       "    </tr>\n",
       "    <tr>\n",
       "      <td>3555</td>\n",
       "      <td>PARAUAPEBAS</td>\n",
       "      <td>PA</td>\n",
       "      <td>2558</td>\n",
       "    </tr>\n",
       "    <tr>\n",
       "      <td>3858</td>\n",
       "      <td>PONTAL</td>\n",
       "      <td>SP</td>\n",
       "      <td>2270</td>\n",
       "    </tr>\n",
       "    <tr>\n",
       "      <td>4324</td>\n",
       "      <td>SANTA CRUZ DO SUL</td>\n",
       "      <td>RS</td>\n",
       "      <td>2247</td>\n",
       "    </tr>\n",
       "    <tr>\n",
       "      <td>2956</td>\n",
       "      <td>MATELANDIA</td>\n",
       "      <td>PR</td>\n",
       "      <td>1813</td>\n",
       "    </tr>\n",
       "    <tr>\n",
       "      <td>4582</td>\n",
       "      <td>SAO FRANCISCO DE ITABAPOANA</td>\n",
       "      <td>RJ</td>\n",
       "      <td>1576</td>\n",
       "    </tr>\n",
       "    <tr>\n",
       "      <td>1904</td>\n",
       "      <td>GOIANESIA</td>\n",
       "      <td>GO</td>\n",
       "      <td>1408</td>\n",
       "    </tr>\n",
       "    <tr>\n",
       "      <td>4402</td>\n",
       "      <td>SANTA RITA DO PASSA QUATRO</td>\n",
       "      <td>SP</td>\n",
       "      <td>1377</td>\n",
       "    </tr>\n",
       "    <tr>\n",
       "      <td>4742</td>\n",
       "      <td>SAO LUIS</td>\n",
       "      <td>MA</td>\n",
       "      <td>1360</td>\n",
       "    </tr>\n",
       "    <tr>\n",
       "      <td>5446</td>\n",
       "      <td>VISTA ALEGRE DO ALTO</td>\n",
       "      <td>SP</td>\n",
       "      <td>1137</td>\n",
       "    </tr>\n",
       "  </tbody>\n",
       "</table>\n",
       "</div>"
      ],
      "text/plain": [
       "                        Municipio  UF  Novos Empregos\n",
       "5378               VENANCIO AIRES  RS            3096\n",
       "3555                  PARAUAPEBAS  PA            2558\n",
       "3858                       PONTAL  SP            2270\n",
       "4324            SANTA CRUZ DO SUL  RS            2247\n",
       "2956                   MATELANDIA  PR            1813\n",
       "4582  SAO FRANCISCO DE ITABAPOANA  RJ            1576\n",
       "1904                    GOIANESIA  GO            1408\n",
       "4402   SANTA RITA DO PASSA QUATRO  SP            1377\n",
       "4742                     SAO LUIS  MA            1360\n",
       "5446         VISTA ALEGRE DO ALTO  SP            1137"
      ]
     },
     "execution_count": 21,
     "metadata": {},
     "output_type": "execute_result"
    }
   ],
   "source": [
    "valor_depois_mun = depois[['municipio','uf','fluxo']].groupby(['municipio','uf']).sum()\n",
    "valor_depois_mun  = valor_depois_mun .reset_index()\n",
    "valor_depois_mun.columns = ['Municipio','UF','Novos Empregos']\n",
    "valor_depois_mun.sort_values(by = 'Novos Empregos', ascending = False ).head(10)"
   ]
  },
  {
   "cell_type": "markdown",
   "metadata": {},
   "source": [
    "### Municipios que mais demitiram após a Pandemia"
   ]
  },
  {
   "cell_type": "code",
   "execution_count": 22,
   "metadata": {},
   "outputs": [
    {
     "data": {
      "text/html": [
       "<div>\n",
       "<style scoped>\n",
       "    .dataframe tbody tr th:only-of-type {\n",
       "        vertical-align: middle;\n",
       "    }\n",
       "\n",
       "    .dataframe tbody tr th {\n",
       "        vertical-align: top;\n",
       "    }\n",
       "\n",
       "    .dataframe thead th {\n",
       "        text-align: right;\n",
       "    }\n",
       "</style>\n",
       "<table border=\"1\" class=\"dataframe\">\n",
       "  <thead>\n",
       "    <tr style=\"text-align: right;\">\n",
       "      <th></th>\n",
       "      <th>Municipio</th>\n",
       "      <th>UF</th>\n",
       "      <th>Novos Empregos</th>\n",
       "    </tr>\n",
       "  </thead>\n",
       "  <tbody>\n",
       "    <tr>\n",
       "      <td>4784</td>\n",
       "      <td>SAO PAULO</td>\n",
       "      <td>SP</td>\n",
       "      <td>-175005</td>\n",
       "    </tr>\n",
       "    <tr>\n",
       "      <td>4151</td>\n",
       "      <td>RIO DE JANEIRO</td>\n",
       "      <td>RJ</td>\n",
       "      <td>-101715</td>\n",
       "    </tr>\n",
       "    <tr>\n",
       "      <td>584</td>\n",
       "      <td>BELO HORIZONTE</td>\n",
       "      <td>MG</td>\n",
       "      <td>-38344</td>\n",
       "    </tr>\n",
       "    <tr>\n",
       "      <td>1493</td>\n",
       "      <td>CURITIBA</td>\n",
       "      <td>PR</td>\n",
       "      <td>-29272</td>\n",
       "    </tr>\n",
       "    <tr>\n",
       "      <td>747</td>\n",
       "      <td>BRASILIA</td>\n",
       "      <td>DF</td>\n",
       "      <td>-27025</td>\n",
       "    </tr>\n",
       "    <tr>\n",
       "      <td>1811</td>\n",
       "      <td>FORTALEZA</td>\n",
       "      <td>CE</td>\n",
       "      <td>-23156</td>\n",
       "    </tr>\n",
       "    <tr>\n",
       "      <td>3893</td>\n",
       "      <td>PORTO ALEGRE</td>\n",
       "      <td>RS</td>\n",
       "      <td>-22855</td>\n",
       "    </tr>\n",
       "    <tr>\n",
       "      <td>4274</td>\n",
       "      <td>SALVADOR</td>\n",
       "      <td>BA</td>\n",
       "      <td>-20596</td>\n",
       "    </tr>\n",
       "    <tr>\n",
       "      <td>4054</td>\n",
       "      <td>RECIFE</td>\n",
       "      <td>PE</td>\n",
       "      <td>-19067</td>\n",
       "    </tr>\n",
       "    <tr>\n",
       "      <td>2013</td>\n",
       "      <td>GUARULHOS</td>\n",
       "      <td>SP</td>\n",
       "      <td>-18199</td>\n",
       "    </tr>\n",
       "  </tbody>\n",
       "</table>\n",
       "</div>"
      ],
      "text/plain": [
       "           Municipio  UF  Novos Empregos\n",
       "4784       SAO PAULO  SP         -175005\n",
       "4151  RIO DE JANEIRO  RJ         -101715\n",
       "584   BELO HORIZONTE  MG          -38344\n",
       "1493        CURITIBA  PR          -29272\n",
       "747         BRASILIA  DF          -27025\n",
       "1811       FORTALEZA  CE          -23156\n",
       "3893    PORTO ALEGRE  RS          -22855\n",
       "4274        SALVADOR  BA          -20596\n",
       "4054          RECIFE  PE          -19067\n",
       "2013       GUARULHOS  SP          -18199"
      ]
     },
     "execution_count": 22,
     "metadata": {},
     "output_type": "execute_result"
    }
   ],
   "source": [
    "valor_depois_mun.sort_values(by = 'Novos Empregos', ascending = True ).head(10)"
   ]
  },
  {
   "cell_type": "markdown",
   "metadata": {},
   "source": [
    "### Tipos de Empresas mais afetadas pela Pandemia"
   ]
  },
  {
   "cell_type": "code",
   "execution_count": 23,
   "metadata": {},
   "outputs": [
    {
     "data": {
      "text/html": [
       "<div>\n",
       "<style scoped>\n",
       "    .dataframe tbody tr th:only-of-type {\n",
       "        vertical-align: middle;\n",
       "    }\n",
       "\n",
       "    .dataframe tbody tr th {\n",
       "        vertical-align: top;\n",
       "    }\n",
       "\n",
       "    .dataframe thead th {\n",
       "        text-align: right;\n",
       "    }\n",
       "</style>\n",
       "<table border=\"1\" class=\"dataframe\">\n",
       "  <thead>\n",
       "    <tr style=\"text-align: right;\">\n",
       "      <th></th>\n",
       "      <th>Tipo da Empresa</th>\n",
       "      <th>Novos Empregos</th>\n",
       "    </tr>\n",
       "  </thead>\n",
       "  <tbody>\n",
       "    <tr>\n",
       "      <td>9</td>\n",
       "      <td>DE 50 A 99</td>\n",
       "      <td>-347059</td>\n",
       "    </tr>\n",
       "    <tr>\n",
       "      <td>6</td>\n",
       "      <td>DE 20 A 49</td>\n",
       "      <td>-284980</td>\n",
       "    </tr>\n",
       "    <tr>\n",
       "      <td>4</td>\n",
       "      <td>DE 10 A 19</td>\n",
       "      <td>-238149</td>\n",
       "    </tr>\n",
       "    <tr>\n",
       "      <td>5</td>\n",
       "      <td>DE 100 A 249</td>\n",
       "      <td>-201562</td>\n",
       "    </tr>\n",
       "    <tr>\n",
       "      <td>7</td>\n",
       "      <td>DE 250 A 499</td>\n",
       "      <td>-179073</td>\n",
       "    </tr>\n",
       "    <tr>\n",
       "      <td>8</td>\n",
       "      <td>DE 5 A 9</td>\n",
       "      <td>-166862</td>\n",
       "    </tr>\n",
       "    <tr>\n",
       "      <td>10</td>\n",
       "      <td>DE 500 A 999</td>\n",
       "      <td>-93672</td>\n",
       "    </tr>\n",
       "    <tr>\n",
       "      <td>0</td>\n",
       "      <td>10</td>\n",
       "      <td>-92633</td>\n",
       "    </tr>\n",
       "    <tr>\n",
       "      <td>2</td>\n",
       "      <td>1000 OU MAIS</td>\n",
       "      <td>-63180</td>\n",
       "    </tr>\n",
       "    <tr>\n",
       "      <td>1</td>\n",
       "      <td>99</td>\n",
       "      <td>-1972</td>\n",
       "    </tr>\n",
       "  </tbody>\n",
       "</table>\n",
       "</div>"
      ],
      "text/plain": [
       "   Tipo da Empresa  Novos Empregos\n",
       "9       DE 50 A 99         -347059\n",
       "6       DE 20 A 49         -284980\n",
       "4       DE 10 A 19         -238149\n",
       "5     DE 100 A 249         -201562\n",
       "7     DE 250 A 499         -179073\n",
       "8         DE 5 A 9         -166862\n",
       "10    DE 500 A 999          -93672\n",
       "0               10          -92633\n",
       "2     1000 OU MAIS          -63180\n",
       "1               99           -1972"
      ]
     },
     "execution_count": 23,
     "metadata": {},
     "output_type": "execute_result"
    }
   ],
   "source": [
    "valor_depois_emp = depois[['faixa_empregados_descr','fluxo']].groupby(['faixa_empregados_descr']).sum()\n",
    "valor_depois_emp  = valor_depois_emp.reset_index()\n",
    "valor_depois_emp.columns = ['Tipo da Empresa','Novos Empregos']\n",
    "valor_depois_emp.sort_values(by = 'Novos Empregos', ascending = True).head(10)"
   ]
  },
  {
   "cell_type": "markdown",
   "metadata": {},
   "source": [
    "### Tipos de Empresas mais afetadas pela Pandemia por UF"
   ]
  },
  {
   "cell_type": "code",
   "execution_count": 24,
   "metadata": {},
   "outputs": [
    {
     "data": {
      "text/html": [
       "<div>\n",
       "<style scoped>\n",
       "    .dataframe tbody tr th:only-of-type {\n",
       "        vertical-align: middle;\n",
       "    }\n",
       "\n",
       "    .dataframe tbody tr th {\n",
       "        vertical-align: top;\n",
       "    }\n",
       "\n",
       "    .dataframe thead th {\n",
       "        text-align: right;\n",
       "    }\n",
       "</style>\n",
       "<table border=\"1\" class=\"dataframe\">\n",
       "  <thead>\n",
       "    <tr style=\"text-align: right;\">\n",
       "      <th></th>\n",
       "      <th>Tipo da Empresa</th>\n",
       "      <th>Estado UF</th>\n",
       "      <th>Novos Empregos</th>\n",
       "    </tr>\n",
       "  </thead>\n",
       "  <tbody>\n",
       "    <tr>\n",
       "      <td>267</td>\n",
       "      <td>DE 50 A 99</td>\n",
       "      <td>SP</td>\n",
       "      <td>-108446</td>\n",
       "    </tr>\n",
       "    <tr>\n",
       "      <td>186</td>\n",
       "      <td>DE 20 A 49</td>\n",
       "      <td>SP</td>\n",
       "      <td>-81727</td>\n",
       "    </tr>\n",
       "    <tr>\n",
       "      <td>132</td>\n",
       "      <td>DE 10 A 19</td>\n",
       "      <td>SP</td>\n",
       "      <td>-69052</td>\n",
       "    </tr>\n",
       "    <tr>\n",
       "      <td>159</td>\n",
       "      <td>DE 100 A 249</td>\n",
       "      <td>SP</td>\n",
       "      <td>-68792</td>\n",
       "    </tr>\n",
       "    <tr>\n",
       "      <td>213</td>\n",
       "      <td>DE 250 A 499</td>\n",
       "      <td>SP</td>\n",
       "      <td>-60286</td>\n",
       "    </tr>\n",
       "    <tr>\n",
       "      <td>240</td>\n",
       "      <td>DE 5 A 9</td>\n",
       "      <td>SP</td>\n",
       "      <td>-47792</td>\n",
       "    </tr>\n",
       "    <tr>\n",
       "      <td>260</td>\n",
       "      <td>DE 50 A 99</td>\n",
       "      <td>RJ</td>\n",
       "      <td>-37279</td>\n",
       "    </tr>\n",
       "    <tr>\n",
       "      <td>252</td>\n",
       "      <td>DE 50 A 99</td>\n",
       "      <td>MG</td>\n",
       "      <td>-30919</td>\n",
       "    </tr>\n",
       "    <tr>\n",
       "      <td>294</td>\n",
       "      <td>DE 500 A 999</td>\n",
       "      <td>SP</td>\n",
       "      <td>-29602</td>\n",
       "    </tr>\n",
       "    <tr>\n",
       "      <td>179</td>\n",
       "      <td>DE 20 A 49</td>\n",
       "      <td>RJ</td>\n",
       "      <td>-29488</td>\n",
       "    </tr>\n",
       "  </tbody>\n",
       "</table>\n",
       "</div>"
      ],
      "text/plain": [
       "    Tipo da Empresa Estado UF  Novos Empregos\n",
       "267      DE 50 A 99        SP         -108446\n",
       "186      DE 20 A 49        SP          -81727\n",
       "132      DE 10 A 19        SP          -69052\n",
       "159    DE 100 A 249        SP          -68792\n",
       "213    DE 250 A 499        SP          -60286\n",
       "240        DE 5 A 9        SP          -47792\n",
       "260      DE 50 A 99        RJ          -37279\n",
       "252      DE 50 A 99        MG          -30919\n",
       "294    DE 500 A 999        SP          -29602\n",
       "179      DE 20 A 49        RJ          -29488"
      ]
     },
     "execution_count": 24,
     "metadata": {},
     "output_type": "execute_result"
    }
   ],
   "source": [
    "valor_depois_uf = depois[['faixa_empregados_descr','uf','fluxo']].groupby(['faixa_empregados_descr','uf']).sum()\n",
    "valor_depois_uf  = valor_depois_uf.reset_index()\n",
    "valor_depois_uf.columns = ['Tipo da Empresa','Estado UF','Novos Empregos']\n",
    "valor_depois_uf.sort_values(by = 'Novos Empregos', ascending = True).head(10)"
   ]
  }
 ],
 "metadata": {
  "kernelspec": {
   "display_name": "Python 3",
   "language": "python",
   "name": "python3"
  },
  "language_info": {
   "codemirror_mode": {
    "name": "ipython",
    "version": 3
   },
   "file_extension": ".py",
   "mimetype": "text/x-python",
   "name": "python",
   "nbconvert_exporter": "python",
   "pygments_lexer": "ipython3",
   "version": "3.7.4"
  }
 },
 "nbformat": 4,
 "nbformat_minor": 2
}
