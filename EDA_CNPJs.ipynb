{
 "cells": [
  {
   "cell_type": "code",
   "execution_count": 1,
   "metadata": {},
   "outputs": [],
   "source": [
    "import pandas as pd \n",
    "import numpy as np\n",
    "%matplotlib inline\n",
    "pd.options.display.float_format = '{:,.2f}'.format\n",
    "pd.options.display.max_colwidth = 200"
   ]
  },
  {
   "cell_type": "markdown",
   "metadata": {},
   "source": [
    "### Funções"
   ]
  },
  {
   "cell_type": "code",
   "execution_count": 2,
   "metadata": {},
   "outputs": [],
   "source": [
    "def tabela_categoricas(df,col,name_col):\n",
    "    df_1 = pd.DataFrame(df[col].value_counts()).reset_index()\n",
    "    df_1.columns = [name_col,'Qtd empresas']\n",
    "    df_1['%Total'] = (df_1['Qtd empresas']/len(df))*100\n",
    "    return df_1"
   ]
  },
  {
   "cell_type": "code",
   "execution_count": 3,
   "metadata": {},
   "outputs": [],
   "source": [
    "def distribuicaoNumericas(df,col,nameCol):\n",
    "    med = pd.DataFrame(columns=[nameCol], index=['Media', 'Mediana', 'Minimo','Maximo'])\n",
    "    med.loc['Media'][nameCol] = float(df[col].mean())\n",
    "    med.loc['Mediana'][nameCol] = float(df[col].median())\n",
    "    med.loc['Minimo'][nameCol] = float(df[col].min())\n",
    "    med.loc['Maximo'][nameCol] = float(df[col].max())\n",
    "    return med"
   ]
  },
  {
   "cell_type": "markdown",
   "metadata": {},
   "source": [
    "### 0. Import Bases"
   ]
  },
  {
   "cell_type": "code",
   "execution_count": 4,
   "metadata": {},
   "outputs": [],
   "source": [
    "### Import Bases\n",
    "df = pd.read_csv('data/cnpjPreFiltrado.csv', encoding='utf-8')\n",
    "df_desc_cnae = pd.read_csv('data/descricao_cnae.csv',encoding='latin1')\n",
    "df_uf_regiao = pd.read_csv('data/uf_regiao.csv', encoding='utf-8')"
   ]
  },
  {
   "cell_type": "code",
   "execution_count": 5,
   "metadata": {},
   "outputs": [
    {
     "data": {
      "text/html": [
       "<div>\n",
       "<style scoped>\n",
       "    .dataframe tbody tr th:only-of-type {\n",
       "        vertical-align: middle;\n",
       "    }\n",
       "\n",
       "    .dataframe tbody tr th {\n",
       "        vertical-align: top;\n",
       "    }\n",
       "\n",
       "    .dataframe thead th {\n",
       "        text-align: right;\n",
       "    }\n",
       "</style>\n",
       "<table border=\"1\" class=\"dataframe\">\n",
       "  <thead>\n",
       "    <tr style=\"text-align: right;\">\n",
       "      <th></th>\n",
       "      <th>cnpj</th>\n",
       "      <th>cd_secao_cnae</th>\n",
       "      <th>cnae</th>\n",
       "      <th>capital_social_empresa</th>\n",
       "      <th>porte_empresa</th>\n",
       "      <th>situacao</th>\n",
       "      <th>abertura</th>\n",
       "      <th>ativa</th>\n",
       "      <th>codigo_ibge</th>\n",
       "      <th>municipio</th>\n",
       "      <th>uf</th>\n",
       "      <th>cep</th>\n",
       "    </tr>\n",
       "  </thead>\n",
       "  <tbody>\n",
       "    <tr>\n",
       "      <td>0</td>\n",
       "      <td>149757000303</td>\n",
       "      <td>A</td>\n",
       "      <td>111301</td>\n",
       "      <td>0.00</td>\n",
       "      <td>5</td>\n",
       "      <td>2004-02-10</td>\n",
       "      <td>1989-09-01</td>\n",
       "      <td>0</td>\n",
       "      <td>1100205</td>\n",
       "      <td>PORTO VELHO</td>\n",
       "      <td>RO</td>\n",
       "      <td>78,905,770.00</td>\n",
       "    </tr>\n",
       "    <tr>\n",
       "      <td>1</td>\n",
       "      <td>5915400000140</td>\n",
       "      <td>A</td>\n",
       "      <td>111301</td>\n",
       "      <td>0.00</td>\n",
       "      <td>5</td>\n",
       "      <td>2015-02-09</td>\n",
       "      <td>1986-03-10</td>\n",
       "      <td>0</td>\n",
       "      <td>1100205</td>\n",
       "      <td>PORTO VELHO</td>\n",
       "      <td>RO</td>\n",
       "      <td>78,902,900.00</td>\n",
       "    </tr>\n",
       "  </tbody>\n",
       "</table>\n",
       "</div>"
      ],
      "text/plain": [
       "            cnpj cd_secao_cnae    cnae  capital_social_empresa  porte_empresa  \\\n",
       "0   149757000303             A  111301                    0.00              5   \n",
       "1  5915400000140             A  111301                    0.00              5   \n",
       "\n",
       "     situacao    abertura  ativa  codigo_ibge    municipio  uf           cep  \n",
       "0  2004-02-10  1989-09-01      0      1100205  PORTO VELHO  RO 78,905,770.00  \n",
       "1  2015-02-09  1986-03-10      0      1100205  PORTO VELHO  RO 78,902,900.00  "
      ]
     },
     "execution_count": 5,
     "metadata": {},
     "output_type": "execute_result"
    }
   ],
   "source": [
    "df_cnpjs = df.copy()\n",
    "df_cnpjs.head(2)"
   ]
  },
  {
   "cell_type": "code",
   "execution_count": 6,
   "metadata": {},
   "outputs": [
    {
     "data": {
      "text/plain": [
       "(42521762, 12)"
      ]
     },
     "execution_count": 6,
     "metadata": {},
     "output_type": "execute_result"
    }
   ],
   "source": [
    "df_cnpjs.shape"
   ]
  },
  {
   "cell_type": "code",
   "execution_count": 7,
   "metadata": {},
   "outputs": [],
   "source": [
    "# Descrição do Porte da Empresa\n",
    "df_cnpjs['porte_empresa_descr']= df_cnpjs['porte_empresa'].replace([0,1,3,5],['NAO INFORMADO','MICRO EMPRESA','EMPRESA DE PEQUENO PORTE','DEMAIS'])\n",
    "df_cnpjs['situacao_atividade']= df_cnpjs['ativa'].replace([0,1],['INATIVA','ATIVA'])"
   ]
  },
  {
   "cell_type": "code",
   "execution_count": 8,
   "metadata": {},
   "outputs": [],
   "source": [
    "# Join para incluir descrição do CNAE\n",
    "df_cnpjs = pd.merge(df_cnpjs, df_desc_cnae,how='left', on=['cd_secao_cnae'])\n",
    "df_cnpjs = pd.merge(df_cnpjs, df_uf_regiao,how='left', on=['uf'])"
   ]
  },
  {
   "cell_type": "code",
   "execution_count": 9,
   "metadata": {},
   "outputs": [],
   "source": [
    "df_cnpjs = df_cnpjs.dropna(subset=['situacao','abertura'])"
   ]
  },
  {
   "cell_type": "code",
   "execution_count": 10,
   "metadata": {},
   "outputs": [
    {
     "data": {
      "text/plain": [
       "cnpj                       0\n",
       "cd_secao_cnae              0\n",
       "cnae                       0\n",
       "capital_social_empresa     0\n",
       "porte_empresa              0\n",
       "situacao                   0\n",
       "abertura                   0\n",
       "ativa                      0\n",
       "codigo_ibge                0\n",
       "municipio                  0\n",
       "uf                         0\n",
       "cep                       11\n",
       "porte_empresa_descr        0\n",
       "situacao_atividade         0\n",
       "descr_secao_cnae           0\n",
       "regiao                     0\n",
       "dtype: int64"
      ]
     },
     "execution_count": 10,
     "metadata": {},
     "output_type": "execute_result"
    }
   ],
   "source": [
    "#Verificação de Valores Ausentes\n",
    "df_cnpjs.isnull().sum()"
   ]
  },
  {
   "cell_type": "code",
   "execution_count": 11,
   "metadata": {},
   "outputs": [],
   "source": [
    "# Extraindo informação do ano de abertura e situação, e tratando valores ausentes desse campo\n",
    "df_cnpjs['ano_abertura'] = df_cnpjs['abertura'].str[:4].astype(int)\n",
    "df_cnpjs['ano_situacao'] = df_cnpjs['situacao'].str[:4].astype(int)"
   ]
  },
  {
   "cell_type": "code",
   "execution_count": 12,
   "metadata": {},
   "outputs": [
    {
     "data": {
      "text/html": [
       "<div>\n",
       "<style scoped>\n",
       "    .dataframe tbody tr th:only-of-type {\n",
       "        vertical-align: middle;\n",
       "    }\n",
       "\n",
       "    .dataframe tbody tr th {\n",
       "        vertical-align: top;\n",
       "    }\n",
       "\n",
       "    .dataframe thead th {\n",
       "        text-align: right;\n",
       "    }\n",
       "</style>\n",
       "<table border=\"1\" class=\"dataframe\">\n",
       "  <thead>\n",
       "    <tr style=\"text-align: right;\">\n",
       "      <th></th>\n",
       "      <th>cnpj</th>\n",
       "      <th>cd_secao_cnae</th>\n",
       "      <th>cnae</th>\n",
       "      <th>capital_social_empresa</th>\n",
       "      <th>porte_empresa</th>\n",
       "      <th>situacao</th>\n",
       "      <th>abertura</th>\n",
       "      <th>ativa</th>\n",
       "      <th>codigo_ibge</th>\n",
       "      <th>municipio</th>\n",
       "      <th>uf</th>\n",
       "      <th>cep</th>\n",
       "      <th>porte_empresa_descr</th>\n",
       "      <th>situacao_atividade</th>\n",
       "      <th>descr_secao_cnae</th>\n",
       "      <th>regiao</th>\n",
       "      <th>ano_abertura</th>\n",
       "      <th>ano_situacao</th>\n",
       "    </tr>\n",
       "  </thead>\n",
       "  <tbody>\n",
       "    <tr>\n",
       "      <td>0</td>\n",
       "      <td>149757000303</td>\n",
       "      <td>A</td>\n",
       "      <td>111301</td>\n",
       "      <td>0.00</td>\n",
       "      <td>5</td>\n",
       "      <td>2004-02-10</td>\n",
       "      <td>1989-09-01</td>\n",
       "      <td>0</td>\n",
       "      <td>1100205</td>\n",
       "      <td>PORTO VELHO</td>\n",
       "      <td>RO</td>\n",
       "      <td>78,905,770.00</td>\n",
       "      <td>DEMAIS</td>\n",
       "      <td>INATIVA</td>\n",
       "      <td>AGRICULTURA, PECUÁRIA, PROD FLORESTAL, PESCA E AQUICULTURA</td>\n",
       "      <td>Norte</td>\n",
       "      <td>1989</td>\n",
       "      <td>2004</td>\n",
       "    </tr>\n",
       "    <tr>\n",
       "      <td>1</td>\n",
       "      <td>5915400000140</td>\n",
       "      <td>A</td>\n",
       "      <td>111301</td>\n",
       "      <td>0.00</td>\n",
       "      <td>5</td>\n",
       "      <td>2015-02-09</td>\n",
       "      <td>1986-03-10</td>\n",
       "      <td>0</td>\n",
       "      <td>1100205</td>\n",
       "      <td>PORTO VELHO</td>\n",
       "      <td>RO</td>\n",
       "      <td>78,902,900.00</td>\n",
       "      <td>DEMAIS</td>\n",
       "      <td>INATIVA</td>\n",
       "      <td>AGRICULTURA, PECUÁRIA, PROD FLORESTAL, PESCA E AQUICULTURA</td>\n",
       "      <td>Norte</td>\n",
       "      <td>1986</td>\n",
       "      <td>2015</td>\n",
       "    </tr>\n",
       "    <tr>\n",
       "      <td>2</td>\n",
       "      <td>15850654000181</td>\n",
       "      <td>A</td>\n",
       "      <td>111301</td>\n",
       "      <td>0.00</td>\n",
       "      <td>5</td>\n",
       "      <td>2008-12-31</td>\n",
       "      <td>1987-02-26</td>\n",
       "      <td>0</td>\n",
       "      <td>1100205</td>\n",
       "      <td>PORTO VELHO</td>\n",
       "      <td>RO</td>\n",
       "      <td>78,902,900.00</td>\n",
       "      <td>DEMAIS</td>\n",
       "      <td>INATIVA</td>\n",
       "      <td>AGRICULTURA, PECUÁRIA, PROD FLORESTAL, PESCA E AQUICULTURA</td>\n",
       "      <td>Norte</td>\n",
       "      <td>1987</td>\n",
       "      <td>2008</td>\n",
       "    </tr>\n",
       "  </tbody>\n",
       "</table>\n",
       "</div>"
      ],
      "text/plain": [
       "             cnpj cd_secao_cnae    cnae  capital_social_empresa  \\\n",
       "0    149757000303             A  111301                    0.00   \n",
       "1   5915400000140             A  111301                    0.00   \n",
       "2  15850654000181             A  111301                    0.00   \n",
       "\n",
       "   porte_empresa    situacao    abertura  ativa  codigo_ibge    municipio  uf  \\\n",
       "0              5  2004-02-10  1989-09-01      0      1100205  PORTO VELHO  RO   \n",
       "1              5  2015-02-09  1986-03-10      0      1100205  PORTO VELHO  RO   \n",
       "2              5  2008-12-31  1987-02-26      0      1100205  PORTO VELHO  RO   \n",
       "\n",
       "            cep porte_empresa_descr situacao_atividade  \\\n",
       "0 78,905,770.00              DEMAIS            INATIVA   \n",
       "1 78,902,900.00              DEMAIS            INATIVA   \n",
       "2 78,902,900.00              DEMAIS            INATIVA   \n",
       "\n",
       "                                             descr_secao_cnae regiao  \\\n",
       "0  AGRICULTURA, PECUÁRIA, PROD FLORESTAL, PESCA E AQUICULTURA  Norte   \n",
       "1  AGRICULTURA, PECUÁRIA, PROD FLORESTAL, PESCA E AQUICULTURA  Norte   \n",
       "2  AGRICULTURA, PECUÁRIA, PROD FLORESTAL, PESCA E AQUICULTURA  Norte   \n",
       "\n",
       "   ano_abertura  ano_situacao  \n",
       "0          1989          2004  \n",
       "1          1986          2015  \n",
       "2          1987          2008  "
      ]
     },
     "execution_count": 12,
     "metadata": {},
     "output_type": "execute_result"
    }
   ],
   "source": [
    "df_cnpjs.head(3)"
   ]
  },
  {
   "cell_type": "markdown",
   "metadata": {},
   "source": [
    "### 1. Porte da Empresa"
   ]
  },
  {
   "cell_type": "code",
   "execution_count": 13,
   "metadata": {},
   "outputs": [
    {
     "data": {
      "text/html": [
       "<div>\n",
       "<style scoped>\n",
       "    .dataframe tbody tr th:only-of-type {\n",
       "        vertical-align: middle;\n",
       "    }\n",
       "\n",
       "    .dataframe tbody tr th {\n",
       "        vertical-align: top;\n",
       "    }\n",
       "\n",
       "    .dataframe thead th {\n",
       "        text-align: right;\n",
       "    }\n",
       "</style>\n",
       "<table border=\"1\" class=\"dataframe\">\n",
       "  <thead>\n",
       "    <tr style=\"text-align: right;\">\n",
       "      <th></th>\n",
       "      <th>Porte</th>\n",
       "      <th>Qtd empresas</th>\n",
       "      <th>%Total</th>\n",
       "    </tr>\n",
       "  </thead>\n",
       "  <tbody>\n",
       "    <tr>\n",
       "      <td>0</td>\n",
       "      <td>MICRO EMPRESA</td>\n",
       "      <td>28785204</td>\n",
       "      <td>67.70</td>\n",
       "    </tr>\n",
       "    <tr>\n",
       "      <td>1</td>\n",
       "      <td>DEMAIS</td>\n",
       "      <td>12444289</td>\n",
       "      <td>29.27</td>\n",
       "    </tr>\n",
       "    <tr>\n",
       "      <td>2</td>\n",
       "      <td>EMPRESA DE PEQUENO PORTE</td>\n",
       "      <td>1292239</td>\n",
       "      <td>3.04</td>\n",
       "    </tr>\n",
       "    <tr>\n",
       "      <td>3</td>\n",
       "      <td>NAO INFORMADO</td>\n",
       "      <td>12</td>\n",
       "      <td>0.00</td>\n",
       "    </tr>\n",
       "  </tbody>\n",
       "</table>\n",
       "</div>"
      ],
      "text/plain": [
       "                      Porte  Qtd empresas  %Total\n",
       "0             MICRO EMPRESA      28785204   67.70\n",
       "1                    DEMAIS      12444289   29.27\n",
       "2  EMPRESA DE PEQUENO PORTE       1292239    3.04\n",
       "3             NAO INFORMADO            12    0.00"
      ]
     },
     "execution_count": 13,
     "metadata": {},
     "output_type": "execute_result"
    }
   ],
   "source": [
    "tabela_categoricas(df_cnpjs,'porte_empresa_descr','Porte')"
   ]
  },
  {
   "cell_type": "markdown",
   "metadata": {},
   "source": [
    "### 2. Distribuição por CNAE (Classificação Nacional de Atividades Econômicas)"
   ]
  },
  {
   "cell_type": "code",
   "execution_count": 14,
   "metadata": {},
   "outputs": [
    {
     "data": {
      "text/html": [
       "<div>\n",
       "<style scoped>\n",
       "    .dataframe tbody tr th:only-of-type {\n",
       "        vertical-align: middle;\n",
       "    }\n",
       "\n",
       "    .dataframe tbody tr th {\n",
       "        vertical-align: top;\n",
       "    }\n",
       "\n",
       "    .dataframe thead th {\n",
       "        text-align: right;\n",
       "    }\n",
       "</style>\n",
       "<table border=\"1\" class=\"dataframe\">\n",
       "  <thead>\n",
       "    <tr style=\"text-align: right;\">\n",
       "      <th></th>\n",
       "      <th>CNAE</th>\n",
       "      <th>Qtd empresas</th>\n",
       "      <th>%Total</th>\n",
       "    </tr>\n",
       "  </thead>\n",
       "  <tbody>\n",
       "    <tr>\n",
       "      <td>0</td>\n",
       "      <td>COMÉRCIO; REPARAÇÃO DE VEÍCULOS AUTOMOTORES E MOTOCICLETAS</td>\n",
       "      <td>15699182</td>\n",
       "      <td>36.92</td>\n",
       "    </tr>\n",
       "    <tr>\n",
       "      <td>1</td>\n",
       "      <td>OUTRAS ATIVIDADES DE SERVIÇOS</td>\n",
       "      <td>5737982</td>\n",
       "      <td>13.49</td>\n",
       "    </tr>\n",
       "    <tr>\n",
       "      <td>2</td>\n",
       "      <td>ALOJAMENTO E ALIMENTAÇÃO</td>\n",
       "      <td>3777456</td>\n",
       "      <td>8.88</td>\n",
       "    </tr>\n",
       "    <tr>\n",
       "      <td>3</td>\n",
       "      <td>INDÚSTRIAS DE TRANSFORMAÇÃO</td>\n",
       "      <td>3479977</td>\n",
       "      <td>8.18</td>\n",
       "    </tr>\n",
       "    <tr>\n",
       "      <td>4</td>\n",
       "      <td>ATIVIDADES ADMINISTRATIVAS E SERVIÇOS COMPLEMENTARES</td>\n",
       "      <td>2451340</td>\n",
       "      <td>5.76</td>\n",
       "    </tr>\n",
       "    <tr>\n",
       "      <td>5</td>\n",
       "      <td>CONSTRUÇÃO</td>\n",
       "      <td>2374291</td>\n",
       "      <td>5.58</td>\n",
       "    </tr>\n",
       "    <tr>\n",
       "      <td>6</td>\n",
       "      <td>TRANSPORTE, ARMAZENAGEM E CORREIO</td>\n",
       "      <td>1913975</td>\n",
       "      <td>4.50</td>\n",
       "    </tr>\n",
       "    <tr>\n",
       "      <td>7</td>\n",
       "      <td>ATIVIDADES PROFISSIONAIS, CIENTÍFICAS E TÉCNICAS</td>\n",
       "      <td>1882227</td>\n",
       "      <td>4.43</td>\n",
       "    </tr>\n",
       "    <tr>\n",
       "      <td>8</td>\n",
       "      <td>EDUCAÇÃO</td>\n",
       "      <td>999409</td>\n",
       "      <td>2.35</td>\n",
       "    </tr>\n",
       "    <tr>\n",
       "      <td>9</td>\n",
       "      <td>AGRICULTURA, PECUÁRIA, PROD FLORESTAL, PESCA E AQUICULTURA</td>\n",
       "      <td>950471</td>\n",
       "      <td>2.24</td>\n",
       "    </tr>\n",
       "    <tr>\n",
       "      <td>10</td>\n",
       "      <td>INFORMAÇÃO E COMUNICAÇÃO</td>\n",
       "      <td>806866</td>\n",
       "      <td>1.90</td>\n",
       "    </tr>\n",
       "    <tr>\n",
       "      <td>11</td>\n",
       "      <td>SAÚDE HUMANA E SERVIÇOS SOCIAIS</td>\n",
       "      <td>772594</td>\n",
       "      <td>1.82</td>\n",
       "    </tr>\n",
       "    <tr>\n",
       "      <td>12</td>\n",
       "      <td>ARTES, CULTURA, ESPORTE E RECREAÇÃO</td>\n",
       "      <td>506017</td>\n",
       "      <td>1.19</td>\n",
       "    </tr>\n",
       "    <tr>\n",
       "      <td>13</td>\n",
       "      <td>ATIVIDADES FINANCEIRAS, DE SEGUROS E SERVIÇOS RELACIONADOS</td>\n",
       "      <td>457222</td>\n",
       "      <td>1.08</td>\n",
       "    </tr>\n",
       "    <tr>\n",
       "      <td>14</td>\n",
       "      <td>ATIVIDADES IMOBILIÁRIAS</td>\n",
       "      <td>278700</td>\n",
       "      <td>0.66</td>\n",
       "    </tr>\n",
       "    <tr>\n",
       "      <td>15</td>\n",
       "      <td>SERVIÇOS DOMÉSTICOS</td>\n",
       "      <td>186608</td>\n",
       "      <td>0.44</td>\n",
       "    </tr>\n",
       "    <tr>\n",
       "      <td>16</td>\n",
       "      <td>ÁGUA, ESGOTO, ATIVIDADES DE GESTÃO DE RESÍDUOS E DESCONTAMINAÇÃO</td>\n",
       "      <td>87918</td>\n",
       "      <td>0.21</td>\n",
       "    </tr>\n",
       "    <tr>\n",
       "      <td>17</td>\n",
       "      <td>ADMINISTRAÇÃO PÚBLICA, DEFESA E SEGURIDADE SOCIAL</td>\n",
       "      <td>71548</td>\n",
       "      <td>0.17</td>\n",
       "    </tr>\n",
       "    <tr>\n",
       "      <td>18</td>\n",
       "      <td>INDÚSTRIAS EXTRATIVAS</td>\n",
       "      <td>66754</td>\n",
       "      <td>0.16</td>\n",
       "    </tr>\n",
       "    <tr>\n",
       "      <td>19</td>\n",
       "      <td>ELETRICIDADE E GÁS</td>\n",
       "      <td>21207</td>\n",
       "      <td>0.05</td>\n",
       "    </tr>\n",
       "  </tbody>\n",
       "</table>\n",
       "</div>"
      ],
      "text/plain": [
       "                                                                CNAE  \\\n",
       "0         COMÉRCIO; REPARAÇÃO DE VEÍCULOS AUTOMOTORES E MOTOCICLETAS   \n",
       "1                                      OUTRAS ATIVIDADES DE SERVIÇOS   \n",
       "2                                           ALOJAMENTO E ALIMENTAÇÃO   \n",
       "3                                        INDÚSTRIAS DE TRANSFORMAÇÃO   \n",
       "4               ATIVIDADES ADMINISTRATIVAS E SERVIÇOS COMPLEMENTARES   \n",
       "5                                                         CONSTRUÇÃO   \n",
       "6                                  TRANSPORTE, ARMAZENAGEM E CORREIO   \n",
       "7                   ATIVIDADES PROFISSIONAIS, CIENTÍFICAS E TÉCNICAS   \n",
       "8                                                           EDUCAÇÃO   \n",
       "9         AGRICULTURA, PECUÁRIA, PROD FLORESTAL, PESCA E AQUICULTURA   \n",
       "10                                          INFORMAÇÃO E COMUNICAÇÃO   \n",
       "11                                   SAÚDE HUMANA E SERVIÇOS SOCIAIS   \n",
       "12                               ARTES, CULTURA, ESPORTE E RECREAÇÃO   \n",
       "13        ATIVIDADES FINANCEIRAS, DE SEGUROS E SERVIÇOS RELACIONADOS   \n",
       "14                                           ATIVIDADES IMOBILIÁRIAS   \n",
       "15                                               SERVIÇOS DOMÉSTICOS   \n",
       "16  ÁGUA, ESGOTO, ATIVIDADES DE GESTÃO DE RESÍDUOS E DESCONTAMINAÇÃO   \n",
       "17                 ADMINISTRAÇÃO PÚBLICA, DEFESA E SEGURIDADE SOCIAL   \n",
       "18                                             INDÚSTRIAS EXTRATIVAS   \n",
       "19                                                ELETRICIDADE E GÁS   \n",
       "\n",
       "    Qtd empresas  %Total  \n",
       "0       15699182   36.92  \n",
       "1        5737982   13.49  \n",
       "2        3777456    8.88  \n",
       "3        3479977    8.18  \n",
       "4        2451340    5.76  \n",
       "5        2374291    5.58  \n",
       "6        1913975    4.50  \n",
       "7        1882227    4.43  \n",
       "8         999409    2.35  \n",
       "9         950471    2.24  \n",
       "10        806866    1.90  \n",
       "11        772594    1.82  \n",
       "12        506017    1.19  \n",
       "13        457222    1.08  \n",
       "14        278700    0.66  \n",
       "15        186608    0.44  \n",
       "16         87918    0.21  \n",
       "17         71548    0.17  \n",
       "18         66754    0.16  \n",
       "19         21207    0.05  "
      ]
     },
     "execution_count": 14,
     "metadata": {},
     "output_type": "execute_result"
    }
   ],
   "source": [
    "tabela_categoricas(df_cnpjs,'descr_secao_cnae','CNAE')"
   ]
  },
  {
   "cell_type": "markdown",
   "metadata": {},
   "source": [
    "### 3. Capital Social"
   ]
  },
  {
   "cell_type": "code",
   "execution_count": 15,
   "metadata": {
    "scrolled": false
   },
   "outputs": [
    {
     "data": {
      "text/plain": [
       "<matplotlib.axes._subplots.AxesSubplot at 0x2740cf8fe08>"
      ]
     },
     "execution_count": 15,
     "metadata": {},
     "output_type": "execute_result"
    },
    {
     "data": {
      "image/png": "[encoded data removed]",
      "text/plain": [
       "<Figure size 432x288 with 1 Axes>"
      ]
     },
     "metadata": {
      "needs_background": "light"
     },
     "output_type": "display_data"
    }
   ],
   "source": [
    "df_cnpjs['capital_social_empresa'].hist(grid = False)"
   ]
  },
  {
   "cell_type": "code",
   "execution_count": 16,
   "metadata": {
    "scrolled": false
   },
   "outputs": [
    {
     "data": {
      "text/html": [
       "<div>\n",
       "<style scoped>\n",
       "    .dataframe tbody tr th:only-of-type {\n",
       "        vertical-align: middle;\n",
       "    }\n",
       "\n",
       "    .dataframe tbody tr th {\n",
       "        vertical-align: top;\n",
       "    }\n",
       "\n",
       "    .dataframe thead th {\n",
       "        text-align: right;\n",
       "    }\n",
       "</style>\n",
       "<table border=\"1\" class=\"dataframe\">\n",
       "  <thead>\n",
       "    <tr style=\"text-align: right;\">\n",
       "      <th></th>\n",
       "      <th>Capital Social - Empresas</th>\n",
       "    </tr>\n",
       "  </thead>\n",
       "  <tbody>\n",
       "    <tr>\n",
       "      <td>Media</td>\n",
       "      <td>970,532.55</td>\n",
       "    </tr>\n",
       "    <tr>\n",
       "      <td>Mediana</td>\n",
       "      <td>350.00</td>\n",
       "    </tr>\n",
       "    <tr>\n",
       "      <td>Minimo</td>\n",
       "      <td>0.00</td>\n",
       "    </tr>\n",
       "    <tr>\n",
       "      <td>Maximo</td>\n",
       "      <td>979,787,731,300.00</td>\n",
       "    </tr>\n",
       "  </tbody>\n",
       "</table>\n",
       "</div>"
      ],
      "text/plain": [
       "        Capital Social - Empresas\n",
       "Media                  970,532.55\n",
       "Mediana                    350.00\n",
       "Minimo                       0.00\n",
       "Maximo         979,787,731,300.00"
      ]
     },
     "execution_count": 16,
     "metadata": {},
     "output_type": "execute_result"
    }
   ],
   "source": [
    "distribuicaoNumericas(df_cnpjs,'capital_social_empresa','Capital Social - Empresas')"
   ]
  },
  {
   "cell_type": "markdown",
   "metadata": {},
   "source": [
    "* Capital social igual a zero"
   ]
  },
  {
   "cell_type": "code",
   "execution_count": 17,
   "metadata": {},
   "outputs": [
    {
     "data": {
      "text/plain": [
       "16901942"
      ]
     },
     "execution_count": 17,
     "metadata": {},
     "output_type": "execute_result"
    }
   ],
   "source": [
    "df_cnpjs[df_cnpjs['capital_social_empresa']==0].shape[0]"
   ]
  },
  {
   "cell_type": "markdown",
   "metadata": {},
   "source": [
    "* Capital social Maior que Zero"
   ]
  },
  {
   "cell_type": "code",
   "execution_count": 18,
   "metadata": {},
   "outputs": [
    {
     "data": {
      "text/plain": [
       "25619802"
      ]
     },
     "execution_count": 18,
     "metadata": {},
     "output_type": "execute_result"
    }
   ],
   "source": [
    "df_cnpjs[df_cnpjs['capital_social_empresa']>0].shape[0]"
   ]
  },
  {
   "cell_type": "markdown",
   "metadata": {},
   "source": [
    "* Outlier"
   ]
  },
  {
   "cell_type": "code",
   "execution_count": 19,
   "metadata": {},
   "outputs": [
    {
     "data": {
      "text/html": [
       "<div>\n",
       "<style scoped>\n",
       "    .dataframe tbody tr th:only-of-type {\n",
       "        vertical-align: middle;\n",
       "    }\n",
       "\n",
       "    .dataframe tbody tr th {\n",
       "        vertical-align: top;\n",
       "    }\n",
       "\n",
       "    .dataframe thead th {\n",
       "        text-align: right;\n",
       "    }\n",
       "</style>\n",
       "<table border=\"1\" class=\"dataframe\">\n",
       "  <thead>\n",
       "    <tr style=\"text-align: right;\">\n",
       "      <th></th>\n",
       "      <th>cnpj</th>\n",
       "      <th>cd_secao_cnae</th>\n",
       "      <th>cnae</th>\n",
       "      <th>capital_social_empresa</th>\n",
       "      <th>porte_empresa</th>\n",
       "      <th>situacao</th>\n",
       "      <th>abertura</th>\n",
       "      <th>ativa</th>\n",
       "      <th>codigo_ibge</th>\n",
       "      <th>municipio</th>\n",
       "      <th>uf</th>\n",
       "      <th>cep</th>\n",
       "      <th>porte_empresa_descr</th>\n",
       "      <th>situacao_atividade</th>\n",
       "      <th>descr_secao_cnae</th>\n",
       "      <th>regiao</th>\n",
       "      <th>ano_abertura</th>\n",
       "      <th>ano_situacao</th>\n",
       "    </tr>\n",
       "  </thead>\n",
       "  <tbody>\n",
       "    <tr>\n",
       "      <td>42297092</td>\n",
       "      <td>19853740000107</td>\n",
       "      <td>S</td>\n",
       "      <td>9609299</td>\n",
       "      <td>979,787,731,300.00</td>\n",
       "      <td>5</td>\n",
       "      <td>2014-02-24</td>\n",
       "      <td>2014-02-24</td>\n",
       "      <td>1</td>\n",
       "      <td>3304557</td>\n",
       "      <td>RIO DE JANEIRO</td>\n",
       "      <td>RJ</td>\n",
       "      <td>23,082,180.00</td>\n",
       "      <td>DEMAIS</td>\n",
       "      <td>ATIVA</td>\n",
       "      <td>OUTRAS ATIVIDADES DE SERVIÇOS</td>\n",
       "      <td>Sudeste</td>\n",
       "      <td>2014</td>\n",
       "      <td>2014</td>\n",
       "    </tr>\n",
       "  </tbody>\n",
       "</table>\n",
       "</div>"
      ],
      "text/plain": [
       "                    cnpj cd_secao_cnae     cnae  capital_social_empresa  \\\n",
       "42297092  19853740000107             S  9609299      979,787,731,300.00   \n",
       "\n",
       "          porte_empresa    situacao    abertura  ativa  codigo_ibge  \\\n",
       "42297092              5  2014-02-24  2014-02-24      1      3304557   \n",
       "\n",
       "               municipio  uf           cep porte_empresa_descr  \\\n",
       "42297092  RIO DE JANEIRO  RJ 23,082,180.00              DEMAIS   \n",
       "\n",
       "         situacao_atividade               descr_secao_cnae   regiao  \\\n",
       "42297092              ATIVA  OUTRAS ATIVIDADES DE SERVIÇOS  Sudeste   \n",
       "\n",
       "          ano_abertura  ano_situacao  \n",
       "42297092          2014          2014  "
      ]
     },
     "execution_count": 19,
     "metadata": {},
     "output_type": "execute_result"
    }
   ],
   "source": [
    "# Empresa com maior capital social declarado\n",
    "df_cnpjs[df_cnpjs['capital_social_empresa']>979787731200]"
   ]
  },
  {
   "cell_type": "markdown",
   "metadata": {},
   "source": [
    "### 4. Empresas Ativas e Inativas"
   ]
  },
  {
   "cell_type": "code",
   "execution_count": 20,
   "metadata": {},
   "outputs": [],
   "source": [
    "ativas = df_cnpjs[df_cnpjs['ativa']==1]\n",
    "inativas = df_cnpjs[df_cnpjs['ativa']==0]"
   ]
  },
  {
   "cell_type": "code",
   "execution_count": 21,
   "metadata": {},
   "outputs": [
    {
     "data": {
      "text/html": [
       "<div>\n",
       "<style scoped>\n",
       "    .dataframe tbody tr th:only-of-type {\n",
       "        vertical-align: middle;\n",
       "    }\n",
       "\n",
       "    .dataframe tbody tr th {\n",
       "        vertical-align: top;\n",
       "    }\n",
       "\n",
       "    .dataframe thead th {\n",
       "        text-align: right;\n",
       "    }\n",
       "</style>\n",
       "<table border=\"1\" class=\"dataframe\">\n",
       "  <thead>\n",
       "    <tr style=\"text-align: right;\">\n",
       "      <th></th>\n",
       "      <th>Situação</th>\n",
       "      <th>Qtd empresas</th>\n",
       "      <th>%Total</th>\n",
       "    </tr>\n",
       "  </thead>\n",
       "  <tbody>\n",
       "    <tr>\n",
       "      <td>0</td>\n",
       "      <td>ATIVA</td>\n",
       "      <td>24563700</td>\n",
       "      <td>57.77</td>\n",
       "    </tr>\n",
       "    <tr>\n",
       "      <td>1</td>\n",
       "      <td>INATIVA</td>\n",
       "      <td>17958044</td>\n",
       "      <td>42.23</td>\n",
       "    </tr>\n",
       "  </tbody>\n",
       "</table>\n",
       "</div>"
      ],
      "text/plain": [
       "  Situação  Qtd empresas  %Total\n",
       "0    ATIVA      24563700   57.77\n",
       "1  INATIVA      17958044   42.23"
      ]
     },
     "execution_count": 21,
     "metadata": {},
     "output_type": "execute_result"
    }
   ],
   "source": [
    "tabela_categoricas(df_cnpjs,'situacao_atividade','Situação')"
   ]
  },
  {
   "cell_type": "markdown",
   "metadata": {},
   "source": [
    "### 5. Tempo de Vida das Empresas"
   ]
  },
  {
   "cell_type": "markdown",
   "metadata": {},
   "source": [
    "#### 5.1 Ativas"
   ]
  },
  {
   "cell_type": "code",
   "execution_count": 22,
   "metadata": {
    "scrolled": true
   },
   "outputs": [
    {
     "name": "stderr",
     "output_type": "stream",
     "text": [
      "C:\\ProgramData\\Anaconda3\\lib\\site-packages\\ipykernel_launcher.py:1: SettingWithCopyWarning: \n",
      "A value is trying to be set on a copy of a slice from a DataFrame.\n",
      "Try using .loc[row_indexer,col_indexer] = value instead\n",
      "\n",
      "See the caveats in the documentation: http://pandas.pydata.org/pandas-docs/stable/user_guide/indexing.html#returning-a-view-versus-a-copy\n",
      "  \"\"\"Entry point for launching an IPython kernel.\n"
     ]
    }
   ],
   "source": [
    "ativas['tempo'] = 2020 - ativas['ano_abertura']"
   ]
  },
  {
   "cell_type": "code",
   "execution_count": 23,
   "metadata": {},
   "outputs": [
    {
     "data": {
      "text/html": [
       "<div>\n",
       "<style scoped>\n",
       "    .dataframe tbody tr th:only-of-type {\n",
       "        vertical-align: middle;\n",
       "    }\n",
       "\n",
       "    .dataframe tbody tr th {\n",
       "        vertical-align: top;\n",
       "    }\n",
       "\n",
       "    .dataframe thead th {\n",
       "        text-align: right;\n",
       "    }\n",
       "</style>\n",
       "<table border=\"1\" class=\"dataframe\">\n",
       "  <thead>\n",
       "    <tr style=\"text-align: right;\">\n",
       "      <th></th>\n",
       "      <th>Tempo Empresas Ativas</th>\n",
       "    </tr>\n",
       "  </thead>\n",
       "  <tbody>\n",
       "    <tr>\n",
       "      <td>Media</td>\n",
       "      <td>9.71</td>\n",
       "    </tr>\n",
       "    <tr>\n",
       "      <td>Mediana</td>\n",
       "      <td>6.00</td>\n",
       "    </tr>\n",
       "    <tr>\n",
       "      <td>Minimo</td>\n",
       "      <td>0.00</td>\n",
       "    </tr>\n",
       "    <tr>\n",
       "      <td>Maximo</td>\n",
       "      <td>419.00</td>\n",
       "    </tr>\n",
       "  </tbody>\n",
       "</table>\n",
       "</div>"
      ],
      "text/plain": [
       "        Tempo Empresas Ativas\n",
       "Media                    9.71\n",
       "Mediana                  6.00\n",
       "Minimo                   0.00\n",
       "Maximo                 419.00"
      ]
     },
     "execution_count": 23,
     "metadata": {},
     "output_type": "execute_result"
    }
   ],
   "source": [
    "distribuicaoNumericas(ativas,'tempo','Tempo Empresas Ativas')"
   ]
  },
  {
   "cell_type": "markdown",
   "metadata": {},
   "source": [
    "* Removendo outlier"
   ]
  },
  {
   "cell_type": "code",
   "execution_count": 24,
   "metadata": {},
   "outputs": [],
   "source": [
    "ativas = ativas[ativas['tempo']<200]"
   ]
  },
  {
   "cell_type": "code",
   "execution_count": 25,
   "metadata": {
    "scrolled": true
   },
   "outputs": [
    {
     "data": {
      "text/plain": [
       "<matplotlib.axes._subplots.AxesSubplot at 0x2731b2cadc8>"
      ]
     },
     "execution_count": 25,
     "metadata": {},
     "output_type": "execute_result"
    },
    {
     "data": {
      "image/png": "[encoded data removed]",
      "text/plain": [
       "<Figure size 432x288 with 1 Axes>"
      ]
     },
     "metadata": {
      "needs_background": "light"
     },
     "output_type": "display_data"
    }
   ],
   "source": [
    "ativas['tempo'].hist(grid = False, bins = 15)"
   ]
  },
  {
   "cell_type": "markdown",
   "metadata": {},
   "source": [
    "#### 5.2 Inativas"
   ]
  },
  {
   "cell_type": "code",
   "execution_count": 26,
   "metadata": {
    "scrolled": true
   },
   "outputs": [
    {
     "name": "stderr",
     "output_type": "stream",
     "text": [
      "C:\\ProgramData\\Anaconda3\\lib\\site-packages\\ipykernel_launcher.py:1: SettingWithCopyWarning: \n",
      "A value is trying to be set on a copy of a slice from a DataFrame.\n",
      "Try using .loc[row_indexer,col_indexer] = value instead\n",
      "\n",
      "See the caveats in the documentation: http://pandas.pydata.org/pandas-docs/stable/user_guide/indexing.html#returning-a-view-versus-a-copy\n",
      "  \"\"\"Entry point for launching an IPython kernel.\n"
     ]
    }
   ],
   "source": [
    "inativas['tempo'] = inativas['ano_situacao'] - inativas['ano_abertura']"
   ]
  },
  {
   "cell_type": "code",
   "execution_count": 27,
   "metadata": {},
   "outputs": [
    {
     "data": {
      "text/html": [
       "<div>\n",
       "<style scoped>\n",
       "    .dataframe tbody tr th:only-of-type {\n",
       "        vertical-align: middle;\n",
       "    }\n",
       "\n",
       "    .dataframe tbody tr th {\n",
       "        vertical-align: top;\n",
       "    }\n",
       "\n",
       "    .dataframe thead th {\n",
       "        text-align: right;\n",
       "    }\n",
       "</style>\n",
       "<table border=\"1\" class=\"dataframe\">\n",
       "  <thead>\n",
       "    <tr style=\"text-align: right;\">\n",
       "      <th></th>\n",
       "      <th>Tempo Empresas Inativas</th>\n",
       "    </tr>\n",
       "  </thead>\n",
       "  <tbody>\n",
       "    <tr>\n",
       "      <td>Media</td>\n",
       "      <td>8.39</td>\n",
       "    </tr>\n",
       "    <tr>\n",
       "      <td>Mediana</td>\n",
       "      <td>5.00</td>\n",
       "    </tr>\n",
       "    <tr>\n",
       "      <td>Minimo</td>\n",
       "      <td>-14.00</td>\n",
       "    </tr>\n",
       "    <tr>\n",
       "      <td>Maximo</td>\n",
       "      <td>308.00</td>\n",
       "    </tr>\n",
       "  </tbody>\n",
       "</table>\n",
       "</div>"
      ],
      "text/plain": [
       "        Tempo Empresas Inativas\n",
       "Media                      8.39\n",
       "Mediana                    5.00\n",
       "Minimo                   -14.00\n",
       "Maximo                   308.00"
      ]
     },
     "execution_count": 27,
     "metadata": {},
     "output_type": "execute_result"
    }
   ],
   "source": [
    "distribuicaoNumericas(inativas,'tempo','Tempo Empresas Inativas')"
   ]
  },
  {
   "cell_type": "markdown",
   "metadata": {},
   "source": [
    "* Removendo 1 outlier "
   ]
  },
  {
   "cell_type": "code",
   "execution_count": 28,
   "metadata": {},
   "outputs": [],
   "source": [
    "inativas = inativas[inativas['tempo']<200]"
   ]
  },
  {
   "cell_type": "code",
   "execution_count": 29,
   "metadata": {},
   "outputs": [
    {
     "data": {
      "text/plain": [
       "<matplotlib.axes._subplots.AxesSubplot at 0x2731c0d5448>"
      ]
     },
     "execution_count": 29,
     "metadata": {},
     "output_type": "execute_result"
    },
    {
     "data": {
      "image/png": "[encoded data removed]",
      "text/plain": [
       "<Figure size 432x288 with 1 Axes>"
      ]
     },
     "metadata": {
      "needs_background": "light"
     },
     "output_type": "display_data"
    }
   ],
   "source": [
    "inativas['tempo'].hist(grid = False, bins = 15)"
   ]
  },
  {
   "cell_type": "markdown",
   "metadata": {},
   "source": [
    "### 6. Abertura de Empresas"
   ]
  },
  {
   "cell_type": "code",
   "execution_count": 30,
   "metadata": {},
   "outputs": [],
   "source": [
    "bases = [ativas,inativas]\n",
    "df_cnpjs = pd.concat(bases)"
   ]
  },
  {
   "cell_type": "markdown",
   "metadata": {},
   "source": [
    "#### 6.1 Abertura de Empresas ao longo do tempo"
   ]
  },
  {
   "cell_type": "code",
   "execution_count": 55,
   "metadata": {},
   "outputs": [],
   "source": [
    "abert_anos = pd.DataFrame(df_cnpjs['ano_abertura'].value_counts()).reset_index()\n",
    "abert_anos = abert_anos[abert_anos['index']>2000]\n",
    "abert_anos.columns = ['Ano Abertura','Qtd Empresas']\n",
    "abert_anos['Ano Abertura'] = abert_anos['Ano Abertura'].apply(str)\n",
    "abert_anos = abert_anos.sort_values(by='Ano Abertura')"
   ]
  },
  {
   "cell_type": "code",
   "execution_count": 56,
   "metadata": {},
   "outputs": [
    {
     "data": {
      "text/plain": [
       "Text(0.5, 0, 'Ano Abertura')"
      ]
     },
     "execution_count": 56,
     "metadata": {},
     "output_type": "execute_result"
    },
    {
     "data": {
      "image/png": "[encoded data removed]",
      "text/plain": [
       "<Figure size 720x288 with 1 Axes>"
      ]
     },
     "metadata": {
      "needs_background": "light"
     },
     "output_type": "display_data"
    }
   ],
   "source": [
    "ax = abert_anos.plot(kind = \"bar\", x = 'Ano Abertura',title = \" Quantidade de Empresas Abertas\",figsize = (10,4))\n",
    "ax.set_xlabel(\"Ano Abertura\")"
   ]
  },
  {
   "cell_type": "markdown",
   "metadata": {},
   "source": [
    "#### 6.3 CNAE que mais abriram empresas no ultimo ano"
   ]
  },
  {
   "cell_type": "code",
   "execution_count": 57,
   "metadata": {},
   "outputs": [],
   "source": [
    "df_cnpjs_ult_ano = df_cnpjs[df_cnpjs['ano_abertura']>2018]"
   ]
  },
  {
   "cell_type": "code",
   "execution_count": 58,
   "metadata": {},
   "outputs": [
    {
     "data": {
      "text/html": [
       "<div>\n",
       "<style scoped>\n",
       "    .dataframe tbody tr th:only-of-type {\n",
       "        vertical-align: middle;\n",
       "    }\n",
       "\n",
       "    .dataframe tbody tr th {\n",
       "        vertical-align: top;\n",
       "    }\n",
       "\n",
       "    .dataframe thead th {\n",
       "        text-align: right;\n",
       "    }\n",
       "</style>\n",
       "<table border=\"1\" class=\"dataframe\">\n",
       "  <thead>\n",
       "    <tr style=\"text-align: right;\">\n",
       "      <th></th>\n",
       "      <th>CNAE</th>\n",
       "      <th>Qtd empresas</th>\n",
       "      <th>%Total</th>\n",
       "    </tr>\n",
       "  </thead>\n",
       "  <tbody>\n",
       "    <tr>\n",
       "      <td>0</td>\n",
       "      <td>COMÉRCIO; REPARAÇÃO DE VEÍCULOS AUTOMOTORES E MOTOCICLETAS</td>\n",
       "      <td>1290010</td>\n",
       "      <td>26.59</td>\n",
       "    </tr>\n",
       "    <tr>\n",
       "      <td>1</td>\n",
       "      <td>ALOJAMENTO E ALIMENTAÇÃO</td>\n",
       "      <td>517287</td>\n",
       "      <td>10.66</td>\n",
       "    </tr>\n",
       "    <tr>\n",
       "      <td>2</td>\n",
       "      <td>OUTRAS ATIVIDADES DE SERVIÇOS</td>\n",
       "      <td>472286</td>\n",
       "      <td>9.74</td>\n",
       "    </tr>\n",
       "    <tr>\n",
       "      <td>3</td>\n",
       "      <td>INDÚSTRIAS DE TRANSFORMAÇÃO</td>\n",
       "      <td>415828</td>\n",
       "      <td>8.57</td>\n",
       "    </tr>\n",
       "    <tr>\n",
       "      <td>4</td>\n",
       "      <td>TRANSPORTE, ARMAZENAGEM E CORREIO</td>\n",
       "      <td>413174</td>\n",
       "      <td>8.52</td>\n",
       "    </tr>\n",
       "    <tr>\n",
       "      <td>5</td>\n",
       "      <td>CONSTRUÇÃO</td>\n",
       "      <td>387732</td>\n",
       "      <td>7.99</td>\n",
       "    </tr>\n",
       "    <tr>\n",
       "      <td>6</td>\n",
       "      <td>ATIVIDADES PROFISSIONAIS, CIENTÍFICAS E TÉCNICAS</td>\n",
       "      <td>327970</td>\n",
       "      <td>6.76</td>\n",
       "    </tr>\n",
       "    <tr>\n",
       "      <td>7</td>\n",
       "      <td>ATIVIDADES ADMINISTRATIVAS E SERVIÇOS COMPLEMENTARES</td>\n",
       "      <td>314958</td>\n",
       "      <td>6.49</td>\n",
       "    </tr>\n",
       "    <tr>\n",
       "      <td>8</td>\n",
       "      <td>EDUCAÇÃO</td>\n",
       "      <td>191455</td>\n",
       "      <td>3.95</td>\n",
       "    </tr>\n",
       "    <tr>\n",
       "      <td>9</td>\n",
       "      <td>SAÚDE HUMANA E SERVIÇOS SOCIAIS</td>\n",
       "      <td>129077</td>\n",
       "      <td>2.66</td>\n",
       "    </tr>\n",
       "    <tr>\n",
       "      <td>10</td>\n",
       "      <td>INFORMAÇÃO E COMUNICAÇÃO</td>\n",
       "      <td>111871</td>\n",
       "      <td>2.31</td>\n",
       "    </tr>\n",
       "    <tr>\n",
       "      <td>11</td>\n",
       "      <td>SERVIÇOS DOMÉSTICOS</td>\n",
       "      <td>77526</td>\n",
       "      <td>1.60</td>\n",
       "    </tr>\n",
       "    <tr>\n",
       "      <td>12</td>\n",
       "      <td>AGRICULTURA, PECUÁRIA, PROD FLORESTAL, PESCA E AQUICULTURA</td>\n",
       "      <td>74655</td>\n",
       "      <td>1.54</td>\n",
       "    </tr>\n",
       "    <tr>\n",
       "      <td>13</td>\n",
       "      <td>ARTES, CULTURA, ESPORTE E RECREAÇÃO</td>\n",
       "      <td>42525</td>\n",
       "      <td>0.88</td>\n",
       "    </tr>\n",
       "    <tr>\n",
       "      <td>14</td>\n",
       "      <td>ATIVIDADES FINANCEIRAS, DE SEGUROS E SERVIÇOS RELACIONADOS</td>\n",
       "      <td>40811</td>\n",
       "      <td>0.84</td>\n",
       "    </tr>\n",
       "    <tr>\n",
       "      <td>15</td>\n",
       "      <td>ATIVIDADES IMOBILIÁRIAS</td>\n",
       "      <td>25002</td>\n",
       "      <td>0.52</td>\n",
       "    </tr>\n",
       "    <tr>\n",
       "      <td>16</td>\n",
       "      <td>ÁGUA, ESGOTO, ATIVIDADES DE GESTÃO DE RESÍDUOS E DESCONTAMINAÇÃO</td>\n",
       "      <td>12964</td>\n",
       "      <td>0.27</td>\n",
       "    </tr>\n",
       "    <tr>\n",
       "      <td>17</td>\n",
       "      <td>ELETRICIDADE E GÁS</td>\n",
       "      <td>2727</td>\n",
       "      <td>0.06</td>\n",
       "    </tr>\n",
       "    <tr>\n",
       "      <td>18</td>\n",
       "      <td>INDÚSTRIAS EXTRATIVAS</td>\n",
       "      <td>2031</td>\n",
       "      <td>0.04</td>\n",
       "    </tr>\n",
       "    <tr>\n",
       "      <td>19</td>\n",
       "      <td>ADMINISTRAÇÃO PÚBLICA, DEFESA E SEGURIDADE SOCIAL</td>\n",
       "      <td>902</td>\n",
       "      <td>0.02</td>\n",
       "    </tr>\n",
       "  </tbody>\n",
       "</table>\n",
       "</div>"
      ],
      "text/plain": [
       "                                                                CNAE  \\\n",
       "0         COMÉRCIO; REPARAÇÃO DE VEÍCULOS AUTOMOTORES E MOTOCICLETAS   \n",
       "1                                           ALOJAMENTO E ALIMENTAÇÃO   \n",
       "2                                      OUTRAS ATIVIDADES DE SERVIÇOS   \n",
       "3                                        INDÚSTRIAS DE TRANSFORMAÇÃO   \n",
       "4                                  TRANSPORTE, ARMAZENAGEM E CORREIO   \n",
       "5                                                         CONSTRUÇÃO   \n",
       "6                   ATIVIDADES PROFISSIONAIS, CIENTÍFICAS E TÉCNICAS   \n",
       "7               ATIVIDADES ADMINISTRATIVAS E SERVIÇOS COMPLEMENTARES   \n",
       "8                                                           EDUCAÇÃO   \n",
       "9                                    SAÚDE HUMANA E SERVIÇOS SOCIAIS   \n",
       "10                                          INFORMAÇÃO E COMUNICAÇÃO   \n",
       "11                                               SERVIÇOS DOMÉSTICOS   \n",
       "12        AGRICULTURA, PECUÁRIA, PROD FLORESTAL, PESCA E AQUICULTURA   \n",
       "13                               ARTES, CULTURA, ESPORTE E RECREAÇÃO   \n",
       "14        ATIVIDADES FINANCEIRAS, DE SEGUROS E SERVIÇOS RELACIONADOS   \n",
       "15                                           ATIVIDADES IMOBILIÁRIAS   \n",
       "16  ÁGUA, ESGOTO, ATIVIDADES DE GESTÃO DE RESÍDUOS E DESCONTAMINAÇÃO   \n",
       "17                                                ELETRICIDADE E GÁS   \n",
       "18                                             INDÚSTRIAS EXTRATIVAS   \n",
       "19                 ADMINISTRAÇÃO PÚBLICA, DEFESA E SEGURIDADE SOCIAL   \n",
       "\n",
       "    Qtd empresas  %Total  \n",
       "0        1290010   26.59  \n",
       "1         517287   10.66  \n",
       "2         472286    9.74  \n",
       "3         415828    8.57  \n",
       "4         413174    8.52  \n",
       "5         387732    7.99  \n",
       "6         327970    6.76  \n",
       "7         314958    6.49  \n",
       "8         191455    3.95  \n",
       "9         129077    2.66  \n",
       "10        111871    2.31  \n",
       "11         77526    1.60  \n",
       "12         74655    1.54  \n",
       "13         42525    0.88  \n",
       "14         40811    0.84  \n",
       "15         25002    0.52  \n",
       "16         12964    0.27  \n",
       "17          2727    0.06  \n",
       "18          2031    0.04  \n",
       "19           902    0.02  "
      ]
     },
     "execution_count": 58,
     "metadata": {},
     "output_type": "execute_result"
    }
   ],
   "source": [
    "tabela_categoricas(df_cnpjs_ult_ano,'descr_secao_cnae','CNAE')"
   ]
  },
  {
   "cell_type": "markdown",
   "metadata": {},
   "source": [
    "### 7. Fechamento  de Empresas"
   ]
  },
  {
   "cell_type": "markdown",
   "metadata": {},
   "source": [
    "#### 7.1 Fechamento de Empresas ao longo do tempo"
   ]
  },
  {
   "cell_type": "code",
   "execution_count": 60,
   "metadata": {},
   "outputs": [],
   "source": [
    "fech_anos = pd.DataFrame(inativas['ano_situacao'].value_counts()).reset_index()\n",
    "fech_anos = fech_anos[fech_anos['index']>2000]\n",
    "fech_anos.columns = ['Ano Fechamento','Qtd Empresas']\n",
    "fech_anos['Ano Fechamento'] = fech_anos['Ano Fechamento'].apply(str)\n",
    "fech_anos = fech_anos.sort_values(by='Ano Fechamento')"
   ]
  },
  {
   "cell_type": "code",
   "execution_count": 61,
   "metadata": {},
   "outputs": [
    {
     "data": {
      "text/plain": [
       "Text(0.5, 0, 'Ano Fechamento')"
      ]
     },
     "execution_count": 61,
     "metadata": {},
     "output_type": "execute_result"
    },
    {
     "data": {
      "image/png": "[encoded data removed]",
      "text/plain": [
       "<Figure size 720x288 with 1 Axes>"
      ]
     },
     "metadata": {
      "needs_background": "light"
     },
     "output_type": "display_data"
    }
   ],
   "source": [
    "ax = fech_anos.plot(kind = \"bar\", x = 'Ano Fechamento',title = \" Quantidade de Empresas Fechadas\",figsize = (10,4))\n",
    "ax.set_xlabel(\"Ano Fechamento\")"
   ]
  },
  {
   "cell_type": "markdown",
   "metadata": {},
   "source": [
    "### 8. Regiões Geograficas"
   ]
  },
  {
   "cell_type": "markdown",
   "metadata": {},
   "source": [
    "#### 8.1 Quantidade de empresas por região"
   ]
  },
  {
   "cell_type": "code",
   "execution_count": 65,
   "metadata": {},
   "outputs": [],
   "source": [
    "regiao = pd.DataFrame(df_cnpjs['regiao'].value_counts()).reset_index()\n",
    "regiao.columns = ['Regiao','Qtd Empresas']\n",
    "regiao['Regiao'] = regiao['Regiao'].apply(str)\n",
    "regiao = regiao.sort_values(by='Regiao')"
   ]
  },
  {
   "cell_type": "code",
   "execution_count": 69,
   "metadata": {
    "scrolled": true
   },
   "outputs": [
    {
     "data": {
      "text/plain": [
       "Text(0.5, 0, 'Regiao')"
      ]
     },
     "execution_count": 69,
     "metadata": {},
     "output_type": "execute_result"
    },
    {
     "data": {
      "image/png": "[encoded data removed]",
      "text/plain": [
       "<Figure size 720x288 with 1 Axes>"
      ]
     },
     "metadata": {
      "needs_background": "light"
     },
     "output_type": "display_data"
    }
   ],
   "source": [
    "ax = regiao.plot(kind = \"bar\", x = 'Regiao',title = \" Quantidade de Empresas por Regiao\",figsize = (10,4))\n",
    "ax.set_xlabel(\"Regiao\")"
   ]
  },
  {
   "cell_type": "code",
   "execution_count": 91,
   "metadata": {},
   "outputs": [],
   "source": [
    "estados = pd.DataFrame(df_cnpjs['uf'].value_counts()).reset_index()\n",
    "estados.columns = ['Estados','Qtd Empresas']\n",
    "estados = estados.sort_values(by='Estados')"
   ]
  },
  {
   "cell_type": "code",
   "execution_count": 92,
   "metadata": {},
   "outputs": [
    {
     "data": {
      "text/plain": [
       "Text(0.5, 0, 'Estados')"
      ]
     },
     "execution_count": 92,
     "metadata": {},
     "output_type": "execute_result"
    },
    {
     "data": {
      "image/png": "[encoded data removed]",
      "text/plain": [
       "<Figure size 720x288 with 1 Axes>"
      ]
     },
     "metadata": {
      "needs_background": "light"
     },
     "output_type": "display_data"
    }
   ],
   "source": [
    "ax = estados.plot(kind = \"bar\", x = 'Estados',title = \" Quantidade de Empresas por Estados\",figsize = (10,4))\n",
    "ax.set_xlabel(\"Estados\")"
   ]
  },
  {
   "cell_type": "code",
   "execution_count": 93,
   "metadata": {},
   "outputs": [
    {
     "data": {
      "text/html": [
       "<div>\n",
       "<style scoped>\n",
       "    .dataframe tbody tr th:only-of-type {\n",
       "        vertical-align: middle;\n",
       "    }\n",
       "\n",
       "    .dataframe tbody tr th {\n",
       "        vertical-align: top;\n",
       "    }\n",
       "\n",
       "    .dataframe thead th {\n",
       "        text-align: right;\n",
       "    }\n",
       "</style>\n",
       "<table border=\"1\" class=\"dataframe\">\n",
       "  <thead>\n",
       "    <tr style=\"text-align: right;\">\n",
       "      <th></th>\n",
       "      <th>Estados</th>\n",
       "      <th>Qtd Empresas</th>\n",
       "    </tr>\n",
       "  </thead>\n",
       "  <tbody>\n",
       "    <tr>\n",
       "      <td>24</td>\n",
       "      <td>AC</td>\n",
       "      <td>104505</td>\n",
       "    </tr>\n",
       "    <tr>\n",
       "      <td>19</td>\n",
       "      <td>AL</td>\n",
       "      <td>415456</td>\n",
       "    </tr>\n",
       "    <tr>\n",
       "      <td>18</td>\n",
       "      <td>AM</td>\n",
       "      <td>442875</td>\n",
       "    </tr>\n",
       "    <tr>\n",
       "      <td>25</td>\n",
       "      <td>AP</td>\n",
       "      <td>100994</td>\n",
       "    </tr>\n",
       "    <tr>\n",
       "      <td>5</td>\n",
       "      <td>BA</td>\n",
       "      <td>2208913</td>\n",
       "    </tr>\n",
       "    <tr>\n",
       "      <td>9</td>\n",
       "      <td>CE</td>\n",
       "      <td>1231001</td>\n",
       "    </tr>\n",
       "    <tr>\n",
       "      <td>13</td>\n",
       "      <td>DF</td>\n",
       "      <td>725252</td>\n",
       "    </tr>\n",
       "    <tr>\n",
       "      <td>10</td>\n",
       "      <td>ES</td>\n",
       "      <td>886451</td>\n",
       "    </tr>\n",
       "    <tr>\n",
       "      <td>7</td>\n",
       "      <td>GO</td>\n",
       "      <td>1464956</td>\n",
       "    </tr>\n",
       "    <tr>\n",
       "      <td>14</td>\n",
       "      <td>MA</td>\n",
       "      <td>669694</td>\n",
       "    </tr>\n",
       "    <tr>\n",
       "      <td>1</td>\n",
       "      <td>MG</td>\n",
       "      <td>4646890</td>\n",
       "    </tr>\n",
       "    <tr>\n",
       "      <td>15</td>\n",
       "      <td>MS</td>\n",
       "      <td>572906</td>\n",
       "    </tr>\n",
       "    <tr>\n",
       "      <td>12</td>\n",
       "      <td>MT</td>\n",
       "      <td>782046</td>\n",
       "    </tr>\n",
       "    <tr>\n",
       "      <td>11</td>\n",
       "      <td>PA</td>\n",
       "      <td>854050</td>\n",
       "    </tr>\n",
       "    <tr>\n",
       "      <td>16</td>\n",
       "      <td>PB</td>\n",
       "      <td>538958</td>\n",
       "    </tr>\n",
       "    <tr>\n",
       "      <td>8</td>\n",
       "      <td>PE</td>\n",
       "      <td>1304697</td>\n",
       "    </tr>\n",
       "    <tr>\n",
       "      <td>20</td>\n",
       "      <td>PI</td>\n",
       "      <td>383922</td>\n",
       "    </tr>\n",
       "    <tr>\n",
       "      <td>4</td>\n",
       "      <td>PR</td>\n",
       "      <td>2843124</td>\n",
       "    </tr>\n",
       "    <tr>\n",
       "      <td>2</td>\n",
       "      <td>RJ</td>\n",
       "      <td>3653397</td>\n",
       "    </tr>\n",
       "    <tr>\n",
       "      <td>17</td>\n",
       "      <td>RN</td>\n",
       "      <td>503273</td>\n",
       "    </tr>\n",
       "    <tr>\n",
       "      <td>21</td>\n",
       "      <td>RO</td>\n",
       "      <td>308424</td>\n",
       "    </tr>\n",
       "    <tr>\n",
       "      <td>26</td>\n",
       "      <td>RR</td>\n",
       "      <td>83085</td>\n",
       "    </tr>\n",
       "    <tr>\n",
       "      <td>3</td>\n",
       "      <td>RS</td>\n",
       "      <td>3091593</td>\n",
       "    </tr>\n",
       "    <tr>\n",
       "      <td>6</td>\n",
       "      <td>SC</td>\n",
       "      <td>1882242</td>\n",
       "    </tr>\n",
       "    <tr>\n",
       "      <td>23</td>\n",
       "      <td>SE</td>\n",
       "      <td>280256</td>\n",
       "    </tr>\n",
       "    <tr>\n",
       "      <td>0</td>\n",
       "      <td>SP</td>\n",
       "      <td>12248097</td>\n",
       "    </tr>\n",
       "    <tr>\n",
       "      <td>22</td>\n",
       "      <td>TO</td>\n",
       "      <td>294685</td>\n",
       "    </tr>\n",
       "  </tbody>\n",
       "</table>\n",
       "</div>"
      ],
      "text/plain": [
       "   Estados  Qtd Empresas\n",
       "24      AC        104505\n",
       "19      AL        415456\n",
       "18      AM        442875\n",
       "25      AP        100994\n",
       "5       BA       2208913\n",
       "9       CE       1231001\n",
       "13      DF        725252\n",
       "10      ES        886451\n",
       "7       GO       1464956\n",
       "14      MA        669694\n",
       "1       MG       4646890\n",
       "15      MS        572906\n",
       "12      MT        782046\n",
       "11      PA        854050\n",
       "16      PB        538958\n",
       "8       PE       1304697\n",
       "20      PI        383922\n",
       "4       PR       2843124\n",
       "2       RJ       3653397\n",
       "17      RN        503273\n",
       "21      RO        308424\n",
       "26      RR         83085\n",
       "3       RS       3091593\n",
       "6       SC       1882242\n",
       "23      SE        280256\n",
       "0       SP      12248097\n",
       "22      TO        294685"
      ]
     },
     "execution_count": 93,
     "metadata": {},
     "output_type": "execute_result"
    }
   ],
   "source": [
    "estados"
   ]
  },
  {
   "cell_type": "markdown",
   "metadata": {},
   "source": [
    "#### 8.2  Estado com maior tempo de vida das empresas"
   ]
  },
  {
   "cell_type": "markdown",
   "metadata": {},
   "source": [
    "* Maior Tempo "
   ]
  },
  {
   "cell_type": "code",
   "execution_count": 80,
   "metadata": {
    "scrolled": true
   },
   "outputs": [
    {
     "data": {
      "text/html": [
       "<div>\n",
       "<style scoped>\n",
       "    .dataframe tbody tr th:only-of-type {\n",
       "        vertical-align: middle;\n",
       "    }\n",
       "\n",
       "    .dataframe tbody tr th {\n",
       "        vertical-align: top;\n",
       "    }\n",
       "\n",
       "    .dataframe thead th {\n",
       "        text-align: right;\n",
       "    }\n",
       "</style>\n",
       "<table border=\"1\" class=\"dataframe\">\n",
       "  <thead>\n",
       "    <tr style=\"text-align: right;\">\n",
       "      <th></th>\n",
       "      <th>Estado (UF)</th>\n",
       "      <th>Tempo de Vida da Empresa(Max)</th>\n",
       "    </tr>\n",
       "  </thead>\n",
       "  <tbody>\n",
       "    <tr>\n",
       "      <td>10</td>\n",
       "      <td>MG</td>\n",
       "      <td>129</td>\n",
       "    </tr>\n",
       "    <tr>\n",
       "      <td>25</td>\n",
       "      <td>SP</td>\n",
       "      <td>121</td>\n",
       "    </tr>\n",
       "    <tr>\n",
       "      <td>13</td>\n",
       "      <td>PA</td>\n",
       "      <td>119</td>\n",
       "    </tr>\n",
       "    <tr>\n",
       "      <td>23</td>\n",
       "      <td>SC</td>\n",
       "      <td>119</td>\n",
       "    </tr>\n",
       "    <tr>\n",
       "      <td>22</td>\n",
       "      <td>RS</td>\n",
       "      <td>119</td>\n",
       "    </tr>\n",
       "    <tr>\n",
       "      <td>18</td>\n",
       "      <td>RJ</td>\n",
       "      <td>119</td>\n",
       "    </tr>\n",
       "    <tr>\n",
       "      <td>17</td>\n",
       "      <td>PR</td>\n",
       "      <td>119</td>\n",
       "    </tr>\n",
       "    <tr>\n",
       "      <td>15</td>\n",
       "      <td>PE</td>\n",
       "      <td>119</td>\n",
       "    </tr>\n",
       "    <tr>\n",
       "      <td>1</td>\n",
       "      <td>AL</td>\n",
       "      <td>119</td>\n",
       "    </tr>\n",
       "    <tr>\n",
       "      <td>26</td>\n",
       "      <td>TO</td>\n",
       "      <td>119</td>\n",
       "    </tr>\n",
       "  </tbody>\n",
       "</table>\n",
       "</div>"
      ],
      "text/plain": [
       "   Estado (UF)  Tempo de Vida da Empresa(Max)\n",
       "10          MG                            129\n",
       "25          SP                            121\n",
       "13          PA                            119\n",
       "23          SC                            119\n",
       "22          RS                            119\n",
       "18          RJ                            119\n",
       "17          PR                            119\n",
       "15          PE                            119\n",
       "1           AL                            119\n",
       "26          TO                            119"
      ]
     },
     "execution_count": 80,
     "metadata": {},
     "output_type": "execute_result"
    }
   ],
   "source": [
    "estados = df_cnpjs[['uf','tempo']].drop_duplicates()\n",
    "maior_tempo = estados.groupby(['uf']).max()\n",
    "maior_tempo = maior_tempo.reset_index()\n",
    "maior_tempo.columns = ['Estado (UF)','Tempo de Vida da Empresa(Max)']\n",
    "maior_tempo.sort_values(by ='Tempo de Vida da Empresa(Max)', ascending = False ).head(10)"
   ]
  },
  {
   "cell_type": "markdown",
   "metadata": {},
   "source": [
    "* Tempo Médio"
   ]
  },
  {
   "cell_type": "code",
   "execution_count": 82,
   "metadata": {},
   "outputs": [
    {
     "data": {
      "text/html": [
       "<div>\n",
       "<style scoped>\n",
       "    .dataframe tbody tr th:only-of-type {\n",
       "        vertical-align: middle;\n",
       "    }\n",
       "\n",
       "    .dataframe tbody tr th {\n",
       "        vertical-align: top;\n",
       "    }\n",
       "\n",
       "    .dataframe thead th {\n",
       "        text-align: right;\n",
       "    }\n",
       "</style>\n",
       "<table border=\"1\" class=\"dataframe\">\n",
       "  <thead>\n",
       "    <tr style=\"text-align: right;\">\n",
       "      <th></th>\n",
       "      <th>Estado (UF)</th>\n",
       "      <th>Tempo de Vida da Empresa (Media)</th>\n",
       "    </tr>\n",
       "  </thead>\n",
       "  <tbody>\n",
       "    <tr>\n",
       "      <td>15</td>\n",
       "      <td>PE</td>\n",
       "      <td>53.93</td>\n",
       "    </tr>\n",
       "    <tr>\n",
       "      <td>25</td>\n",
       "      <td>SP</td>\n",
       "      <td>49.36</td>\n",
       "    </tr>\n",
       "    <tr>\n",
       "      <td>10</td>\n",
       "      <td>MG</td>\n",
       "      <td>48.09</td>\n",
       "    </tr>\n",
       "    <tr>\n",
       "      <td>22</td>\n",
       "      <td>RS</td>\n",
       "      <td>47.82</td>\n",
       "    </tr>\n",
       "    <tr>\n",
       "      <td>4</td>\n",
       "      <td>BA</td>\n",
       "      <td>46.24</td>\n",
       "    </tr>\n",
       "    <tr>\n",
       "      <td>13</td>\n",
       "      <td>PA</td>\n",
       "      <td>44.48</td>\n",
       "    </tr>\n",
       "    <tr>\n",
       "      <td>5</td>\n",
       "      <td>CE</td>\n",
       "      <td>44.02</td>\n",
       "    </tr>\n",
       "    <tr>\n",
       "      <td>18</td>\n",
       "      <td>RJ</td>\n",
       "      <td>43.71</td>\n",
       "    </tr>\n",
       "    <tr>\n",
       "      <td>23</td>\n",
       "      <td>SC</td>\n",
       "      <td>42.68</td>\n",
       "    </tr>\n",
       "    <tr>\n",
       "      <td>17</td>\n",
       "      <td>PR</td>\n",
       "      <td>42.44</td>\n",
       "    </tr>\n",
       "  </tbody>\n",
       "</table>\n",
       "</div>"
      ],
      "text/plain": [
       "   Estado (UF)  Tempo de Vida da Empresa (Media)\n",
       "15          PE                             53.93\n",
       "25          SP                             49.36\n",
       "10          MG                             48.09\n",
       "22          RS                             47.82\n",
       "4           BA                             46.24\n",
       "13          PA                             44.48\n",
       "5           CE                             44.02\n",
       "18          RJ                             43.71\n",
       "23          SC                             42.68\n",
       "17          PR                             42.44"
      ]
     },
     "execution_count": 82,
     "metadata": {},
     "output_type": "execute_result"
    }
   ],
   "source": [
    "maior_tempo = estados.groupby(['uf']).mean()\n",
    "maior_tempo = maior_tempo.reset_index()\n",
    "maior_tempo.columns = ['Estado (UF)','Tempo de Vida da Empresa (Media)']\n",
    "maior_tempo.sort_values(by ='Tempo de Vida da Empresa (Media)', ascending = False ).head(10)"
   ]
  },
  {
   "cell_type": "markdown",
   "metadata": {},
   "source": [
    "#### 8.2 Estados com menor tempo de vida das empresas"
   ]
  },
  {
   "cell_type": "code",
   "execution_count": 85,
   "metadata": {},
   "outputs": [
    {
     "data": {
      "text/html": [
       "<div>\n",
       "<style scoped>\n",
       "    .dataframe tbody tr th:only-of-type {\n",
       "        vertical-align: middle;\n",
       "    }\n",
       "\n",
       "    .dataframe tbody tr th {\n",
       "        vertical-align: top;\n",
       "    }\n",
       "\n",
       "    .dataframe thead th {\n",
       "        text-align: right;\n",
       "    }\n",
       "</style>\n",
       "<table border=\"1\" class=\"dataframe\">\n",
       "  <thead>\n",
       "    <tr style=\"text-align: right;\">\n",
       "      <th></th>\n",
       "      <th>Estado (UF)</th>\n",
       "      <th>Tempo de Vida da Empresa (Media)</th>\n",
       "    </tr>\n",
       "  </thead>\n",
       "  <tbody>\n",
       "    <tr>\n",
       "      <td>3</td>\n",
       "      <td>AP</td>\n",
       "      <td>26.98</td>\n",
       "    </tr>\n",
       "    <tr>\n",
       "      <td>21</td>\n",
       "      <td>RR</td>\n",
       "      <td>27.00</td>\n",
       "    </tr>\n",
       "    <tr>\n",
       "      <td>0</td>\n",
       "      <td>AC</td>\n",
       "      <td>28.00</td>\n",
       "    </tr>\n",
       "    <tr>\n",
       "      <td>11</td>\n",
       "      <td>MS</td>\n",
       "      <td>28.44</td>\n",
       "    </tr>\n",
       "    <tr>\n",
       "      <td>20</td>\n",
       "      <td>RO</td>\n",
       "      <td>28.63</td>\n",
       "    </tr>\n",
       "    <tr>\n",
       "      <td>16</td>\n",
       "      <td>PI</td>\n",
       "      <td>29.68</td>\n",
       "    </tr>\n",
       "    <tr>\n",
       "      <td>6</td>\n",
       "      <td>DF</td>\n",
       "      <td>29.97</td>\n",
       "    </tr>\n",
       "    <tr>\n",
       "      <td>12</td>\n",
       "      <td>MT</td>\n",
       "      <td>31.75</td>\n",
       "    </tr>\n",
       "    <tr>\n",
       "      <td>2</td>\n",
       "      <td>AM</td>\n",
       "      <td>34.53</td>\n",
       "    </tr>\n",
       "    <tr>\n",
       "      <td>9</td>\n",
       "      <td>MA</td>\n",
       "      <td>34.61</td>\n",
       "    </tr>\n",
       "  </tbody>\n",
       "</table>\n",
       "</div>"
      ],
      "text/plain": [
       "   Estado (UF)  Tempo de Vida da Empresa (Media)\n",
       "3           AP                             26.98\n",
       "21          RR                             27.00\n",
       "0           AC                             28.00\n",
       "11          MS                             28.44\n",
       "20          RO                             28.63\n",
       "16          PI                             29.68\n",
       "6           DF                             29.97\n",
       "12          MT                             31.75\n",
       "2           AM                             34.53\n",
       "9           MA                             34.61"
      ]
     },
     "execution_count": 85,
     "metadata": {},
     "output_type": "execute_result"
    }
   ],
   "source": [
    "maior_tempo.sort_values(by ='Tempo de Vida da Empresa (Media)', ascending = True).head(10)"
   ]
  },
  {
   "cell_type": "markdown",
   "metadata": {},
   "source": [
    "#### 8.4 Estados que mais  Fecharam Empresas"
   ]
  },
  {
   "cell_type": "code",
   "execution_count": 88,
   "metadata": {},
   "outputs": [],
   "source": [
    "uf_fech = pd.DataFrame(inativas['uf'].value_counts()).reset_index()\n",
    "uf_fech.columns = ['Estados','Qtd Empresas Fechadas']\n",
    "uf_fech = uf_fech.sort_values(by='Estados')"
   ]
  },
  {
   "cell_type": "code",
   "execution_count": 89,
   "metadata": {},
   "outputs": [
    {
     "data": {
      "text/plain": [
       "Text(0.5, 0, 'Estados')"
      ]
     },
     "execution_count": 89,
     "metadata": {},
     "output_type": "execute_result"
    },
    {
     "data": {
      "image/png": "[encoded data removed]",
      "text/plain": [
       "<Figure size 720x288 with 1 Axes>"
      ]
     },
     "metadata": {
      "needs_background": "light"
     },
     "output_type": "display_data"
    }
   ],
   "source": [
    "ax = uf_fech.plot(kind = \"bar\", x = 'Estados',title = \" Quantidade de Empresas Fechadas por Estados\",figsize = (10,4))\n",
    "ax.set_xlabel(\"Estados\")"
   ]
  },
  {
   "cell_type": "code",
   "execution_count": 90,
   "metadata": {},
   "outputs": [
    {
     "data": {
      "text/html": [
       "<div>\n",
       "<style scoped>\n",
       "    .dataframe tbody tr th:only-of-type {\n",
       "        vertical-align: middle;\n",
       "    }\n",
       "\n",
       "    .dataframe tbody tr th {\n",
       "        vertical-align: top;\n",
       "    }\n",
       "\n",
       "    .dataframe thead th {\n",
       "        text-align: right;\n",
       "    }\n",
       "</style>\n",
       "<table border=\"1\" class=\"dataframe\">\n",
       "  <thead>\n",
       "    <tr style=\"text-align: right;\">\n",
       "      <th></th>\n",
       "      <th>Estados</th>\n",
       "      <th>Qtd Empresas Fechadas</th>\n",
       "    </tr>\n",
       "  </thead>\n",
       "  <tbody>\n",
       "    <tr>\n",
       "      <td>24</td>\n",
       "      <td>AC</td>\n",
       "      <td>45224</td>\n",
       "    </tr>\n",
       "    <tr>\n",
       "      <td>18</td>\n",
       "      <td>AL</td>\n",
       "      <td>189098</td>\n",
       "    </tr>\n",
       "    <tr>\n",
       "      <td>19</td>\n",
       "      <td>AM</td>\n",
       "      <td>187521</td>\n",
       "    </tr>\n",
       "    <tr>\n",
       "      <td>25</td>\n",
       "      <td>AP</td>\n",
       "      <td>43148</td>\n",
       "    </tr>\n",
       "    <tr>\n",
       "      <td>5</td>\n",
       "      <td>BA</td>\n",
       "      <td>937493</td>\n",
       "    </tr>\n",
       "    <tr>\n",
       "      <td>9</td>\n",
       "      <td>CE</td>\n",
       "      <td>509192</td>\n",
       "    </tr>\n",
       "    <tr>\n",
       "      <td>14</td>\n",
       "      <td>DF</td>\n",
       "      <td>280319</td>\n",
       "    </tr>\n",
       "    <tr>\n",
       "      <td>10</td>\n",
       "      <td>ES</td>\n",
       "      <td>363493</td>\n",
       "    </tr>\n",
       "    <tr>\n",
       "      <td>7</td>\n",
       "      <td>GO</td>\n",
       "      <td>618078</td>\n",
       "    </tr>\n",
       "    <tr>\n",
       "      <td>13</td>\n",
       "      <td>MA</td>\n",
       "      <td>295510</td>\n",
       "    </tr>\n",
       "    <tr>\n",
       "      <td>1</td>\n",
       "      <td>MG</td>\n",
       "      <td>2127141</td>\n",
       "    </tr>\n",
       "    <tr>\n",
       "      <td>15</td>\n",
       "      <td>MS</td>\n",
       "      <td>244705</td>\n",
       "    </tr>\n",
       "    <tr>\n",
       "      <td>12</td>\n",
       "      <td>MT</td>\n",
       "      <td>328689</td>\n",
       "    </tr>\n",
       "    <tr>\n",
       "      <td>11</td>\n",
       "      <td>PA</td>\n",
       "      <td>351459</td>\n",
       "    </tr>\n",
       "    <tr>\n",
       "      <td>16</td>\n",
       "      <td>PB</td>\n",
       "      <td>228556</td>\n",
       "    </tr>\n",
       "    <tr>\n",
       "      <td>8</td>\n",
       "      <td>PE</td>\n",
       "      <td>571231</td>\n",
       "    </tr>\n",
       "    <tr>\n",
       "      <td>20</td>\n",
       "      <td>PI</td>\n",
       "      <td>160941</td>\n",
       "    </tr>\n",
       "    <tr>\n",
       "      <td>4</td>\n",
       "      <td>PR</td>\n",
       "      <td>1180081</td>\n",
       "    </tr>\n",
       "    <tr>\n",
       "      <td>3</td>\n",
       "      <td>RJ</td>\n",
       "      <td>1402885</td>\n",
       "    </tr>\n",
       "    <tr>\n",
       "      <td>17</td>\n",
       "      <td>RN</td>\n",
       "      <td>209930</td>\n",
       "    </tr>\n",
       "    <tr>\n",
       "      <td>21</td>\n",
       "      <td>RO</td>\n",
       "      <td>143016</td>\n",
       "    </tr>\n",
       "    <tr>\n",
       "      <td>26</td>\n",
       "      <td>RR</td>\n",
       "      <td>40395</td>\n",
       "    </tr>\n",
       "    <tr>\n",
       "      <td>2</td>\n",
       "      <td>RS</td>\n",
       "      <td>1428509</td>\n",
       "    </tr>\n",
       "    <tr>\n",
       "      <td>6</td>\n",
       "      <td>SC</td>\n",
       "      <td>794053</td>\n",
       "    </tr>\n",
       "    <tr>\n",
       "      <td>23</td>\n",
       "      <td>SE</td>\n",
       "      <td>124794</td>\n",
       "    </tr>\n",
       "    <tr>\n",
       "      <td>0</td>\n",
       "      <td>SP</td>\n",
       "      <td>5022280</td>\n",
       "    </tr>\n",
       "    <tr>\n",
       "      <td>22</td>\n",
       "      <td>TO</td>\n",
       "      <td>130302</td>\n",
       "    </tr>\n",
       "  </tbody>\n",
       "</table>\n",
       "</div>"
      ],
      "text/plain": [
       "   Estados  Qtd Empresas Fechadas\n",
       "24      AC                  45224\n",
       "18      AL                 189098\n",
       "19      AM                 187521\n",
       "25      AP                  43148\n",
       "5       BA                 937493\n",
       "9       CE                 509192\n",
       "14      DF                 280319\n",
       "10      ES                 363493\n",
       "7       GO                 618078\n",
       "13      MA                 295510\n",
       "1       MG                2127141\n",
       "15      MS                 244705\n",
       "12      MT                 328689\n",
       "11      PA                 351459\n",
       "16      PB                 228556\n",
       "8       PE                 571231\n",
       "20      PI                 160941\n",
       "4       PR                1180081\n",
       "3       RJ                1402885\n",
       "17      RN                 209930\n",
       "21      RO                 143016\n",
       "26      RR                  40395\n",
       "2       RS                1428509\n",
       "6       SC                 794053\n",
       "23      SE                 124794\n",
       "0       SP                5022280\n",
       "22      TO                 130302"
      ]
     },
     "execution_count": 90,
     "metadata": {},
     "output_type": "execute_result"
    }
   ],
   "source": [
    "uf_fech"
   ]
  },
  {
   "cell_type": "code",
   "execution_count": null,
   "metadata": {},
   "outputs": [],
   "source": []
  }
 ],
 "metadata": {
  "kernelspec": {
   "display_name": "Python 3",
   "language": "python",
   "name": "python3"
  },
  "language_info": {
   "codemirror_mode": {
    "name": "ipython",
    "version": 3
   },
   "file_extension": ".py",
   "mimetype": "text/x-python",
   "name": "python",
   "nbconvert_exporter": "python",
   "pygments_lexer": "ipython3",
   "version": "3.7.4"
  }
 },
 "nbformat": 4,
 "nbformat_minor": 2
}
